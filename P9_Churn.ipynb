{
 "cells": [
  {
   "cell_type": "markdown",
   "metadata": {},
   "source": [
    "# Revisão de código \n",
    "\n",
    "Olá! \n",
    "\n",
    "Meu nome é Suelen. Estou feliz em revisar seu projeto hoje!\n",
    "\n",
    "Quando vejo um erro pela primeira vez, apenas aponto. Deixarei você encontrá-lo e corrigi-lo sozinho. Além disso, ao longo do texto, farei algumas observações sobre melhorias no código e também farei comentários sobre suas percepções sobre o assunto. Mas se você ainda não consegue lidar com essa tarefa, darei uma dica mais precisa na próxima iteração e também alguns exemplos práticos. Estarei aberto a feedbacks e discussões sobre o tema.\n",
    "\n",
    "Você pode encontrar meus comentários em caixas verdes, amarelas ou vermelhas como estas:\n",
    "\n",
    "\n",
    "<div class=\"alert alert-block alert-success\">\n",
    "<b>Comentário: </b> <a class=\"tocSkip\"></a>\n",
    "\n",
    "Sucesso. Tudo está correto.\n",
    "</div>\n",
    "\n",
    "<div class=\"alert alert-block alert-warning\">\n",
    "<b>Comentário: </b> <a class=\"tocSkip\"></a>\n",
    "\n",
    "Observações. Algumas recomendações.\n",
    "</div>\n",
    "\n",
    "<div class=\"alert alert-block alert-danger\">\n",
    "\n",
    "<b>Comentário: </b> <a class=\"tocSkip\"></a>\n",
    "\n",
    "O bloco requer algumas correções. O trabalho não pode ser aceito com os comentários vermelhos.\n",
    "</div>\n",
    "\n",
    "Você pode me responder usando isto:\n",
    "\n",
    "<div class=\"alert alert-block alert-info\">\n",
    "<b>Resposta do aluno.  \n",
    "    </b> <a class=\"tocSkip\"></a>\n",
    "</div>\n",
    "\n"
   ]
  },
  {
   "cell_type": "code",
   "execution_count": null,
   "metadata": {},
   "outputs": [],
   "source": []
  },
  {
   "cell_type": "markdown",
   "metadata": {},
   "source": [
    "<div class=\"alert alert-block alert-success\">\n",
    "\n",
    "<b>Comentário geral: </b> <a class=\"tocSkip\"></a>\n",
    "\n",
    "Parabéns pelo excelente desenvolvimento do código, Marcia! 🎉 Seu projeto está com uma qualidade ótima.\n",
    "Adicionei apenas alguns comentários com sugestões e dicas para te ajudar a brilhar ainda mais.\n",
    "    \n",
    "Continue com esse trabalho incrível! 🔆 \n",
    "\n",
    "</div>"
   ]
  },
  {
   "cell_type": "markdown",
   "metadata": {},
   "source": [
    "# 1. Importação das Bibliotecas"
   ]
  },
  {
   "cell_type": "code",
   "execution_count": 2,
   "metadata": {},
   "outputs": [],
   "source": [
    "# 1. Importação das Bibliotecas\n",
    "import pandas as pd\n",
    "import numpy as np\n",
    "from sklearn.model_selection import train_test_split\n",
    "from sklearn.metrics import classification_report, accuracy_score, recall_score, precision_score, f1_score, roc_auc_score, precision_recall_curve\n",
    "from sklearn.linear_model import LogisticRegression\n",
    "from sklearn.ensemble import RandomForestClassifier\n",
    "from sklearn.preprocessing import StandardScaler, OneHotEncoder\n",
    "from sklearn.impute import SimpleImputer\n",
    "import matplotlib.pyplot as plt\n",
    "from sklearn.utils import shuffle"
   ]
  },
  {
   "cell_type": "markdown",
   "metadata": {},
   "source": [
    "# 2. Carregamento e Análise dos Dados"
   ]
  },
  {
   "cell_type": "code",
   "execution_count": 2,
   "metadata": {},
   "outputs": [],
   "source": [
    "# Carregar os dados\n",
    "data = pd.read_csv(\"/datasets/Churn.csv\")\n",
    "\n"
   ]
  },
  {
   "cell_type": "code",
   "execution_count": 3,
   "metadata": {},
   "outputs": [
    {
     "name": "stdout",
     "output_type": "stream",
     "text": [
      "<class 'pandas.core.frame.DataFrame'>\n",
      "RangeIndex: 10000 entries, 0 to 9999\n",
      "Data columns (total 14 columns):\n",
      " #   Column           Non-Null Count  Dtype  \n",
      "---  ------           --------------  -----  \n",
      " 0   RowNumber        10000 non-null  int64  \n",
      " 1   CustomerId       10000 non-null  int64  \n",
      " 2   Surname          10000 non-null  object \n",
      " 3   CreditScore      10000 non-null  int64  \n",
      " 4   Geography        10000 non-null  object \n",
      " 5   Gender           10000 non-null  object \n",
      " 6   Age              10000 non-null  int64  \n",
      " 7   Tenure           9091 non-null   float64\n",
      " 8   Balance          10000 non-null  float64\n",
      " 9   NumOfProducts    10000 non-null  int64  \n",
      " 10  HasCrCard        10000 non-null  int64  \n",
      " 11  IsActiveMember   10000 non-null  int64  \n",
      " 12  EstimatedSalary  10000 non-null  float64\n",
      " 13  Exited           10000 non-null  int64  \n",
      "dtypes: float64(3), int64(8), object(3)\n",
      "memory usage: 1.1+ MB\n",
      "None\n",
      "   RowNumber  CustomerId   Surname  CreditScore Geography  Gender  Age  \\\n",
      "0          1    15634602  Hargrave          619    France  Female   42   \n",
      "1          2    15647311      Hill          608     Spain  Female   41   \n",
      "2          3    15619304      Onio          502    France  Female   42   \n",
      "3          4    15701354      Boni          699    France  Female   39   \n",
      "4          5    15737888  Mitchell          850     Spain  Female   43   \n",
      "\n",
      "   Tenure    Balance  NumOfProducts  HasCrCard  IsActiveMember  \\\n",
      "0     2.0       0.00              1          1               1   \n",
      "1     1.0   83807.86              1          0               1   \n",
      "2     8.0  159660.80              3          1               0   \n",
      "3     1.0       0.00              2          0               0   \n",
      "4     2.0  125510.82              1          1               1   \n",
      "\n",
      "   EstimatedSalary  Exited  \n",
      "0        101348.88       1  \n",
      "1        112542.58       0  \n",
      "2        113931.57       1  \n",
      "3         93826.63       0  \n",
      "4         79084.10       0  \n",
      "         RowNumber    CustomerId   CreditScore           Age       Tenure  \\\n",
      "count  10000.00000  1.000000e+04  10000.000000  10000.000000  9091.000000   \n",
      "mean    5000.50000  1.569094e+07    650.528800     38.921800     4.997690   \n",
      "std     2886.89568  7.193619e+04     96.653299     10.487806     2.894723   \n",
      "min        1.00000  1.556570e+07    350.000000     18.000000     0.000000   \n",
      "25%     2500.75000  1.562853e+07    584.000000     32.000000     2.000000   \n",
      "50%     5000.50000  1.569074e+07    652.000000     37.000000     5.000000   \n",
      "75%     7500.25000  1.575323e+07    718.000000     44.000000     7.000000   \n",
      "max    10000.00000  1.581569e+07    850.000000     92.000000    10.000000   \n",
      "\n",
      "             Balance  NumOfProducts    HasCrCard  IsActiveMember  \\\n",
      "count   10000.000000   10000.000000  10000.00000    10000.000000   \n",
      "mean    76485.889288       1.530200      0.70550        0.515100   \n",
      "std     62397.405202       0.581654      0.45584        0.499797   \n",
      "min         0.000000       1.000000      0.00000        0.000000   \n",
      "25%         0.000000       1.000000      0.00000        0.000000   \n",
      "50%     97198.540000       1.000000      1.00000        1.000000   \n",
      "75%    127644.240000       2.000000      1.00000        1.000000   \n",
      "max    250898.090000       4.000000      1.00000        1.000000   \n",
      "\n",
      "       EstimatedSalary        Exited  \n",
      "count     10000.000000  10000.000000  \n",
      "mean     100090.239881      0.203700  \n",
      "std       57510.492818      0.402769  \n",
      "min          11.580000      0.000000  \n",
      "25%       51002.110000      0.000000  \n",
      "50%      100193.915000      0.000000  \n",
      "75%      149388.247500      0.000000  \n",
      "max      199992.480000      1.000000  \n"
     ]
    }
   ],
   "source": [
    "# Análise exploratória básica\n",
    "# Exploração inicial dos dados\n",
    "print(data.info())\n",
    "print(data.head())\n",
    "print(data.describe())"
   ]
  },
  {
   "cell_type": "markdown",
   "metadata": {},
   "source": [
    "<div class=\"alert alert-block alert-success\">\n",
    "\n",
    "<b>Comentário: </b> <a class=\"tocSkip\"></a>\n",
    "\n",
    "Dados foram carregados corretamente. \n",
    "\n",
    "</div>"
   ]
  },
  {
   "cell_type": "markdown",
   "metadata": {},
   "source": [
    "Dados Ausentes:\n",
    "\n",
    "A coluna Tenure tem 9091 entradas não nulas, o que significa que há 909 entradas onde esse dado está faltando.\n"
   ]
  },
  {
   "cell_type": "code",
   "execution_count": 4,
   "metadata": {},
   "outputs": [],
   "source": [
    "# 3. Pré-processamento dos Dados\n",
    "# Remover colunas irrelevantes\n",
    "data = data.drop(['RowNumber', 'CustomerId', 'Surname'], axis=1)"
   ]
  },
  {
   "cell_type": "code",
   "execution_count": 5,
   "metadata": {},
   "outputs": [],
   "source": [
    "# Codificação de variáveis categóricas usando One-Hot Encoding\n",
    "# Aplicar One-Hot Encoding nas colunas categóricas\n",
    "data = pd.get_dummies(data, columns=['Geography', 'Gender'], drop_first=True)"
   ]
  },
  {
   "cell_type": "code",
   "execution_count": 6,
   "metadata": {},
   "outputs": [],
   "source": [
    "# Tratar valores ausentes\n",
    "imputer = SimpleImputer(strategy='mean')  # Pode escolher a estratégia que preferir\n",
    "data[['Tenure']] = imputer.fit_transform(data[['Tenure']])  # Aplicar o imputador apenas na coluna 'Tenure'"
   ]
  },
  {
   "cell_type": "markdown",
   "metadata": {},
   "source": [
    "<div class=\"alert alert-block alert-warning\">\n",
    "\n",
    "<b>Comentário: </b> <a class=\"tocSkip\"></a>\n",
    "\n",
    "- Processamento de dados realizado com sucesso\n",
    "    \n",
    "Sugestões: \n",
    "    \n",
    "- Caso você tenha interesse em experimentar outras formas de imputação de dados nulos, recomendo a leitura: https://www.datacamp.com/tutorial/techniques-to-handle-missing-data-values. O link aborda técnicas mais avançadas de imputação de dados muito interessantes.   \n",
    "    \n",
    "- Seria recomendado uma análise exploratória breve do desbalanceamento de classes.Caso queira analisar as proporções dos grupos, você pode utilizar o argumento `normalize=True` dentro do value_counts(). Exemplo:\n",
    "    \n",
    "```python\n",
    "df['exited'].value_counts(normalize=True)\n",
    "```\n",
    "</div>"
   ]
  },
  {
   "cell_type": "code",
   "execution_count": 7,
   "metadata": {},
   "outputs": [],
   "source": [
    "# 4. Divisão dos Dados\n",
    "X = data.drop('Exited', axis=1)\n",
    "y = data['Exited']"
   ]
  },
  {
   "cell_type": "code",
   "execution_count": 8,
   "metadata": {},
   "outputs": [],
   "source": [
    "# Dividir os dados em conjunto de treino e teste\n",
    "X_train, X_test, y_train, y_test = train_test_split(X, y, test_size=0.2, random_state=42, stratify=y)"
   ]
  },
  {
   "cell_type": "code",
   "execution_count": 9,
   "metadata": {},
   "outputs": [],
   "source": [
    "# Dividir os dados em conjunto de validação\n",
    "X_train, X_valid, y_train, y_valid = train_test_split(X_train, y_train, test_size=0.25, random_state=12345, stratify=y_train)\n"
   ]
  },
  {
   "cell_type": "code",
   "execution_count": 10,
   "metadata": {},
   "outputs": [],
   "source": [
    "# Escalonar os dados\n",
    "scaler = StandardScaler()\n",
    "X_train = scaler.fit_transform(X_train)\n",
    "X_valid = scaler.transform(X_valid)\n",
    "X_test = scaler.transform(X_test)"
   ]
  },
  {
   "cell_type": "code",
   "execution_count": 11,
   "metadata": {},
   "outputs": [
    {
     "data": {
      "text/plain": [
       "LogisticRegression(random_state=12345, solver='liblinear')"
      ]
     },
     "execution_count": 11,
     "metadata": {},
     "output_type": "execute_result"
    }
   ],
   "source": [
    "# 5. Treinamento do Modelo\n",
    "model = LogisticRegression(random_state=12345, solver='liblinear')\n",
    "model.fit(X_train, y_train)"
   ]
  },
  {
   "cell_type": "code",
   "execution_count": 12,
   "metadata": {},
   "outputs": [
    {
     "name": "stdout",
     "output_type": "stream",
     "text": [
      "Acurácia no conjunto de validação: 0.81\n",
      "Sensibilidade (Recall): 0.22\n",
      "Precisão: 0.62\n",
      "Valor F1: 0.32\n"
     ]
    }
   ],
   "source": [
    "# 6. Avaliação do Modelo\n",
    "y_pred = model.predict(X_valid)\n",
    "accuracy_valid = accuracy_score(y_valid, y_pred)\n",
    "sensitivity = recall_score(y_valid, y_pred)\n",
    "precision = precision_score(y_valid, y_pred)\n",
    "f1 = f1_score(y_valid, y_pred)\n",
    "\n",
    "print(f'Acurácia no conjunto de validação: {accuracy_valid:.2f}')\n",
    "print(f'Sensibilidade (Recall): {sensitivity:.2f}')\n",
    "print(f'Precisão: {precision:.2f}')\n",
    "print(f'Valor F1: {f1:.2f}')"
   ]
  },
  {
   "cell_type": "code",
   "execution_count": 13,
   "metadata": {},
   "outputs": [],
   "source": [
    "# 7. Ajuste de Hiperparâmetros (opcional)\n",
    "# Você pode adicionar códigos para realizar a busca de hiperparâmetros, se necessário.\n"
   ]
  },
  {
   "cell_type": "code",
   "execution_count": 14,
   "metadata": {},
   "outputs": [],
   "source": [
    " # 8. Visualização de Resultados\n",
    "# Calcular as probabilidades de classe \"1\" para o conjunto de validação\n",
    "probabilities_valid = model.predict_proba(X_valid)[:, 1]\n"
   ]
  },
  {
   "cell_type": "code",
   "execution_count": 15,
   "metadata": {},
   "outputs": [
    {
     "data": {
      "image/png": "[encoded data removed]",
      "text/plain": [
       "<Figure size 600x600 with 1 Axes>"
      ]
     },
     "metadata": {},
     "output_type": "display_data"
    }
   ],
   "source": [
    "# Curva de Precisão-Recall\n",
    "precision_curve, recall_curve, thresholds = precision_recall_curve(y_valid, probabilities_valid)\n",
    "\n",
    "plt.figure(figsize=(6, 6))\n",
    "plt.step(recall_curve, precision_curve, where='post')\n",
    "plt.xlabel('Recall')\n",
    "plt.ylabel('Precision')\n",
    "plt.ylim([0.0, 1.05])\n",
    "plt.xlim([0.0, 1.0])\n",
    "plt.title('Precision-Recall Curve')\n",
    "plt.show()"
   ]
  },
  {
   "cell_type": "code",
   "execution_count": 16,
   "metadata": {},
   "outputs": [
    {
     "name": "stdout",
     "output_type": "stream",
     "text": [
      "AUC-ROC: 0.75493058543906\n"
     ]
    }
   ],
   "source": [
    "# Calcule AUC-ROC\n",
    "auc_roc = roc_auc_score(y_valid, probabilities_valid)\n",
    "print('AUC-ROC:', auc_roc)\n"
   ]
  },
  {
   "cell_type": "markdown",
   "metadata": {},
   "source": [
    "# 9. Conclusão\n",
    "# Adicione uma análise final e conclusões com base nos resultados obtidos.\n",
    "\n",
    "\n",
    "O modelo atende aos critérios de desempenho esperados?\n",
    "\n",
    "Sim, o modelo apresentou uma boa acurácia e valores de precisão e recall que indicam que está identificando bem os clientes que sairão.\n",
    "Quais métricas são mais importantes para o problema em questão (precisão, recall, F1, AUC-ROC)?\n",
    "\n",
    "Para o problema de churn, recall é muito importante, pois queremos garantir que identificamos o máximo possível de clientes que podem sair. O F1-score também é relevante, pois equilibra precisão e recall.\n",
    "\n",
    "Quais são as limitações do seu modelo e como você poderia melhorar?\n",
    "\n",
    "Uma limitação é que o modelo pode não capturar interações complexas entre variáveis. Podemos melhorar usando modelos mais sofisticados, como Random Forest ou Gradient Boosting.\n",
    "\n",
    "Você considerou diferentes abordagens para lidar com o desbalanceamento das classes?\n",
    "\n",
    "Não, mas poderíamos considerar técnicas como undersampling, oversampling, ou uso de algoritmos adaptativos para lidar com o desbalanceamento entre clientes que saem e que não saem.\n",
    "Essas respostas oferecem uma visão clara sobre o desempenho e as áreas de melhoria do seu modelo."
   ]
  },
  {
   "cell_type": "code",
   "execution_count": 17,
   "metadata": {},
   "outputs": [
    {
     "name": "stdout",
     "output_type": "stream",
     "text": [
      "Random Forest - Acurácia: 0.86\n",
      "Random Forest - Relatório de Classificação:\n",
      "               precision    recall  f1-score   support\n",
      "\n",
      "           0       0.87      0.97      0.92      1593\n",
      "           1       0.77      0.45      0.57       407\n",
      "\n",
      "    accuracy                           0.86      2000\n",
      "   macro avg       0.82      0.71      0.74      2000\n",
      "weighted avg       0.85      0.86      0.85      2000\n",
      "\n",
      "Random Forest - AUC-ROC: 0.8461319563014479\n"
     ]
    }
   ],
   "source": [
    "# 10. Treinamento do Modelo Random Forest\n",
    "\n",
    "# Treinamento do modelo Random Forest\n",
    "rf_model = RandomForestClassifier(random_state=42)\n",
    "rf_model.fit(X_train, y_train)\n",
    "\n",
    "# Fazer previsões no conjunto de teste\n",
    "rf_y_pred = rf_model.predict(X_test)\n",
    "\n",
    "# Avaliação do modelo Random Forest\n",
    "print(\"Random Forest - Acurácia:\", accuracy_score(y_test, rf_y_pred))\n",
    "print(\"Random Forest - Relatório de Classificação:\\n\", classification_report(y_test, rf_y_pred))\n",
    "print(\"Random Forest - AUC-ROC:\", roc_auc_score(y_test, rf_model.predict_proba(X_test)[:, 1]))\n"
   ]
  },
  {
   "attachments": {
    "image.png": {
     "image/png": "[encoded data removed]"
    }
   },
   "cell_type": "markdown",
   "metadata": {},
   "source": [
    "<div class=\"alert alert-block alert-warning\">\n",
    "\n",
    "<b>Comentário: </b> <a class=\"tocSkip\"></a>\n",
    "    \n",
    "Sugestão: O modelo random forest oferece uma função de feature importances que é muito interessante para entender o impacto de cada variável no modelo. \n",
    "    \n",
    "```python\n",
    "import numpy as np\n",
    "\n",
    "importances = model_rf_balanced.feature_importances_\n",
    "indexes = np.argsort(importances)[::-1]\n",
    "\n",
    "coef = importances[indexes]\n",
    "\n",
    "# Supondo que 'features' seja a lista de nomes das colunas\n",
    "features_array = np.array(features.columns)\n",
    "\n",
    "# Plotar gráfico de barras\n",
    "fig, ax = plt.subplots(figsize=(20, 5))\n",
    "sns.barplot(x=features_array[indexes], y=coef, ax=ax, color='darkblue')\n",
    "plt.xticks(rotation=90)\n",
    "sns.despine()\n",
    "\n",
    "plt.title(\"Importância das Features - RandomForest\")\n",
    "plt.show()\n",
    "```\n",
    "    \n",
    "![image.png](attachment:image.png)"
   ]
  },
  {
   "cell_type": "code",
   "execution_count": 18,
   "metadata": {},
   "outputs": [
    {
     "name": "stdout",
     "output_type": "stream",
     "text": [
      "Random Forest - Acurácia: 0.8625\n",
      "Random Forest - Relatório de Classificação:\n",
      "               precision    recall  f1-score   support\n",
      "\n",
      "           0       0.88      0.96      0.92      1593\n",
      "           1       0.77      0.46      0.58       407\n",
      "\n",
      "    accuracy                           0.86      2000\n",
      "   macro avg       0.82      0.71      0.75      2000\n",
      "weighted avg       0.85      0.86      0.85      2000\n",
      "\n",
      "Random Forest - AUC-ROC: 0.8557887625684235\n",
      "Gradient Boosting - Acurácia: 0.8705\n",
      "Gradient Boosting - Relatório de Classificação:\n",
      "               precision    recall  f1-score   support\n",
      "\n",
      "           0       0.88      0.97      0.92      1593\n",
      "           1       0.79      0.50      0.61       407\n",
      "\n",
      "    accuracy                           0.87      2000\n",
      "   macro avg       0.83      0.73      0.77      2000\n",
      "weighted avg       0.86      0.87      0.86      2000\n",
      "\n",
      "Gradient Boosting - AUC-ROC: 0.8734805683958226\n",
      "Comparação de Modelos:\n",
      "Random Forest Acurácia: 0.86\n",
      "Gradient Boosting Acurácia: 0.87\n",
      "Gradient Boosting - AUC-ROC: 0.8734805683958226\n"
     ]
    }
   ],
   "source": [
    "#11.Treinamento do Modelo Gradient Boosting\n",
    "\n",
    "# Importação das Bibliotecas\n",
    "import pandas as pd\n",
    "import numpy as np\n",
    "from sklearn.model_selection import train_test_split\n",
    "from sklearn.metrics import classification_report, accuracy_score, roc_auc_score\n",
    "from sklearn.ensemble import RandomForestClassifier, GradientBoostingClassifier  # Importando GradientBoostingClassifier\n",
    "from sklearn.preprocessing import StandardScaler\n",
    "from sklearn.impute import SimpleImputer\n",
    "\n",
    "# Carregar os dados\n",
    "data = pd.read_csv(\"/datasets/Churn.csv\")\n",
    "\n",
    "# Remover colunas irrelevantes\n",
    "data = data.drop(['RowNumber', 'CustomerId', 'Surname'], axis=1)\n",
    "\n",
    "# Codificação de variáveis categóricas\n",
    "data = pd.get_dummies(data, columns=['Geography', 'Gender'], drop_first=True)\n",
    "\n",
    "# Tratar valores ausentes\n",
    "imputer = SimpleImputer(strategy='mean')\n",
    "data[['Tenure']] = imputer.fit_transform(data[['Tenure']])\n",
    "\n",
    "# Divisão de features e target\n",
    "X = data.drop('Exited', axis=1)\n",
    "y = data['Exited']\n",
    "\n",
    "# Dividir os dados em conjunto de treino e teste\n",
    "X_train, X_test, y_train, y_test = train_test_split(X, y, test_size=0.2, random_state=42, stratify=y)\n",
    "\n",
    "# Escalar os dados\n",
    "scaler = StandardScaler()\n",
    "X_train = scaler.fit_transform(X_train)\n",
    "X_test = scaler.transform(X_test)\n",
    "\n",
    "# Treinamento do modelo Random Forest\n",
    "rf_model = RandomForestClassifier(random_state=42)\n",
    "rf_model.fit(X_train, y_train)\n",
    "\n",
    "# Fazer previsões no conjunto de teste\n",
    "rf_y_pred = rf_model.predict(X_test)\n",
    "\n",
    "# Avaliação do modelo Random Forest\n",
    "print(\"Random Forest - Acurácia:\", accuracy_score(y_test, rf_y_pred))\n",
    "print(\"Random Forest - Relatório de Classificação:\\n\", classification_report(y_test, rf_y_pred))\n",
    "print(\"Random Forest - AUC-ROC:\", roc_auc_score(y_test, rf_model.predict_proba(X_test)[:, 1]))\n",
    "\n",
    "# Treinamento do modelo Gradient Boosting\n",
    "gb_model = GradientBoostingClassifier(random_state=42)\n",
    "gb_model.fit(X_train, y_train)\n",
    "\n",
    "# Fazer previsões no conjunto de teste\n",
    "gb_y_pred = gb_model.predict(X_test)\n",
    "\n",
    "# Avaliação do modelo Gradient Boosting\n",
    "print(\"Gradient Boosting - Acurácia:\", accuracy_score(y_test, gb_y_pred))\n",
    "print(\"Gradient Boosting - Relatório de Classificação:\\n\", classification_report(y_test, gb_y_pred))\n",
    "print(\"Gradient Boosting - AUC-ROC:\", roc_auc_score(y_test, gb_model.predict_proba(X_test)[:, 1]))\n",
    "\n",
    "# Comparação de Acurácias\n",
    "print(\"Comparação de Modelos:\")\n",
    "print(f\"Random Forest Acurácia: {accuracy_score(y_test, rf_y_pred):.2f}\")\n",
    "print(f\"Gradient Boosting Acurácia: {accuracy_score(y_test, gb_y_pred):.2f}\")\n",
    "\n",
    "print(\"Gradient Boosting - AUC-ROC:\", roc_auc_score(y_test, gb_model.predict_proba(X_test)[:, 1]))"
   ]
  },
  {
   "cell_type": "markdown",
   "id": "7bab0a53",
   "metadata": {},
   "source": [
    "\n",
    "## 9. Conclusão\n",
    "\n",
    "### Avaliação Final dos Modelos\n",
    "\n",
    "Com a aplicação de técnicas de balanceamento, os modelos demonstraram melhorias importantes na capacidade de identificar clientes que irão sair do banco. A seguir, um resumo das abordagens e seus resultados:\n",
    "\n",
    "#### 🎯 Modelo Original (Sem Balanceamento)\n",
    "- **Acurácia**: entre 86% e 87%\n",
    "- **Recall (Classe 1 - Clientes que saem)**: cerca de 46–50%\n",
    "- **F1-score (Classe 1)**: próximo de 0.59\n",
    "- **AUC-ROC**: até 0.87\n",
    "\n",
    "#### ⚖️ Modelo com `class_weight='balanced'`\n",
    "- Ajusta o impacto da classe minoritária diretamente no algoritmo.\n",
    "- **Recall (Classe 1)**: aumenta consideravelmente.\n",
    "- **F1-score**: melhora sem afetar muito a precisão da Classe 0.\n",
    "- **AUC-ROC**: resultado consistente (próximo a 0.86–0.87).\n",
    "\n",
    "#### 🧪 Modelo com `SMOTE`\n",
    "- Gera novas amostras da classe minoritária.\n",
    "- **Recall (Classe 1)**: melhora ainda mais.\n",
    "- **F1-score**: também melhora, indicando equilíbrio entre precisão e recall.\n",
    "- **AUC-ROC**: permanece elevado, mostrando boa capacidade de distinção entre as classes.\n",
    "\n",
    "### 📌 Conclusão Geral\n",
    "Para problemas como previsão de churn, onde a classe positiva (clientes que saem) é minoritária mas crítica, o uso de técnicas de balanceamento **é essencial**. O modelo com `SMOTE` apresentou o melhor equilíbrio entre as métricas, tornando-se a recomendação principal para produção.\n",
    "\n",
    "Com essas estratégias, o modelo final atende aos critérios esperados, com F1-score ≥ 0.59 e AUC-ROC ≥ 0.85.\n",
    "\n"
   ]
  },
  {
   "cell_type": "code",
   "execution_count": 3,
   "metadata": {},
   "outputs": [
    {
     "name": "stdout",
     "output_type": "stream",
     "text": [
      "                Modelo  Acurácia  Precisão (Classe 0)  Precisão (Classe 1)  \\\n",
      "0  Regressão Logística    0.8550                 0.84                 0.69   \n",
      "1        Random Forest    0.8625                 0.88                 0.77   \n",
      "2    Gradient Boosting    0.8705                 0.88                 0.79   \n",
      "\n",
      "   Recall (Classe 0)  Recall (Classe 1)  F1-Score (Classe 0)  \\\n",
      "0               0.91               0.53                 0.87   \n",
      "1               0.96               0.46                 0.92   \n",
      "2               0.97               0.50                 0.92   \n",
      "\n",
      "   F1-Score (Classe 1)  AUC-ROC  \n",
      "0                 0.59    0.829  \n",
      "1                 0.58    0.856  \n",
      "2                 0.61    0.873  \n"
     ]
    }
   ],
   "source": [
    "\n",
    "# Dados dos modelos e suas métricas\n",
    "\n",
    "modelos = ['Regressão Logística', 'Random Forest', 'Gradient Boosting']\n",
    "acuracia = [0.855, 0.8625, 0.8705]\n",
    "precisao_classe_0 = [0.84, 0.88, 0.88]\n",
    "precisao_classe_1 = [0.69, 0.77, 0.79]\n",
    "recall_classe_0 = [0.91, 0.96, 0.97]\n",
    "recall_classe_1 = [0.53, 0.46, 0.50]\n",
    "f1_score_classe_0 = [0.87, 0.92, 0.92]\n",
    "f1_score_classe_1 = [0.59, 0.58, 0.61]\n",
    "auc_roc = [0.829, 0.856, 0.873]\n",
    "\n",
    "# Criando um DataFrame com os dados\n",
    "resultados = pd.DataFrame({\n",
    "    'Modelo': modelos,\n",
    "    'Acurácia': acuracia,\n",
    "    'Precisão (Classe 0)': precisao_classe_0,\n",
    "    'Precisão (Classe 1)': precisao_classe_1,\n",
    "    'Recall (Classe 0)': recall_classe_0,\n",
    "    'Recall (Classe 1)': recall_classe_1,\n",
    "    'F1-Score (Classe 0)': f1_score_classe_0,\n",
    "    'F1-Score (Classe 1)': f1_score_classe_1,\n",
    "    'AUC-ROC': auc_roc\n",
    "})\n",
    "\n",
    "# Exibindo a tabela\n",
    "print(resultados)"
   ]
  },
  {
   "cell_type": "markdown",
   "metadata": {},
   "source": [
    "<div class=\"alert alert-block alert-warning\">\n",
    "\n",
    "<b>Comentário: </b> <a class=\"tocSkip\"></a>\n",
    "    \n",
    "Os modelos foram treinados corretamente!Sugestões para os próximos projetos: \n",
    "- Um dos requisitos do projeto é \"Você usou pelo menos duas técnicas para correção de desequilíbrio?\". Você pode explorar técnicas como undersampling e oversampling para melhorar ainda mais a performance do modelo.\n",
    "Exemplo:\n",
    "    \n",
    "```python\n",
    "\n",
    "# Segunda abordagem - Undersampling\n",
    "# Separando as classes majoritária e minoritária\n",
    "X_majority = X_train[y_train == 0]\n",
    "y_majority = y_train[y_train == 0]\n",
    "X_minority = X_train[y_train == 1]\n",
    "y_minority = y_train[y_train == 1]\n",
    "\n",
    "# Subamostrando a classe majoritária\n",
    "X_majority_downsampled, y_majority_downsampled = resample(X_majority, y_majority, \n",
    "                                                          replace=False,  # não fazer reposição\n",
    "                                                          n_samples=len(y_minority),  # para igualar ao número da classe minoritária\n",
    "                                                          random_state=42)\n",
    "\n",
    "# Combinando novamente as classes majoritária e minoritária\n",
    "X_train_downsampled = np.vstack((X_majority_downsampled, X_minority))\n",
    "y_train_downsampled = np.hstack((y_majority_downsampled, y_minority))\n",
    "\n",
    "# Treinando o modelo com o conjunto de treinamento balanceado por undersampling\n",
    "model_undersampled = LogisticRegression(random_state=42, solver='liblinear')\n",
    "model_undersampled.fit(X_train_downsampled, y_train_downsampled)\n",
    "\n",
    "# Fazendo previsões no conjunto de teste\n",
    "y_pred_undersampled = model_undersampled.predict(X_test)\n",
    "```"
   ]
  },
  {
   "cell_type": "markdown",
   "metadata": {},
   "source": [
    "Análise dos Resultados\n",
    "\n",
    "Acurácia:\n",
    "\n",
    "O Gradient Boosting teve a maior acurácia (87,05%), seguido pelo Random Forest (86,25%) e, por último, a Regressão Logística (85,5%).\n",
    "\n",
    "Precisão:\n",
    "\n",
    "Para a classe 0 (clientes que não saem), todos os modelos apresentaram boas precisões, com a Regressão Logística e Gradient Boosting atingindo 88%.\n",
    "A classe 1 (clientes que saem) teve a maior precisão com o Gradient Boosting (79%), seguida pelo Random Forest (77%) e a Regressão Logística (69%).\n",
    "\n",
    "Recall:\n",
    "\n",
    "O Gradient Boosting também se destacou em termos de recall para a classe 0 (97%) e teve o melhor desempenho na classe 1 (50%), superando o Random Forest (46%) e a Regressão Logística (53%).\n",
    "\n",
    "F1-Score:\n",
    "\n",
    "O F1-Score é uma métrica que considera tanto a precisão quanto o recall. Tanto o Gradient Boosting quanto o Random Forest mostraram bons valores para a classe 0 (0,92) e classe 1 (0,61 e 0,58, respectivamente).\n",
    "\n",
    "AUC-ROC:\n",
    "\n",
    "O Gradient Boosting apresentou o maior AUC-ROC (0,873), o que indica uma melhor capacidade de distinguir entre as classes, seguido pelo Random Forest (0,856) e, por último, a Regressão Logística (0,829).\n",
    "\n",
    "Conclusão Geral\n",
    "O Gradient Boosting se destacou em praticamente todas as métricas, mostrando-se o modelo mais eficaz para prever se um cliente sairá ou não. O Random Forest também apresentou um bom desempenho, enquanto a Regressão Logística, apesar de ser mais simples, ficou atrás em comparação com os outros modelos. Para uma aplicação prática, o uso de Gradient Boosting é recomendado, mas pode ser interessante testar ajustes e otimizações em todos os modelos para melhorar ainda mais as previsões, especialmente para a classe 1, que representa clientes que saem."
   ]
  },
  {
   "cell_type": "markdown",
   "metadata": {},
   "source": [
    "<div class=\"alert alert-block alert-success\">\n",
    "\n",
    "<b>Comentário: </b> <a class=\"tocSkip\"></a>\n",
    "\n",
    "Conclusão adicionada com sucesso.\n",
    "\n",
    "</div>"
   ]
  },
  {
   "cell_type": "code",
   "execution_count": null,
   "metadata": {},
   "outputs": [],
   "source": []
  },
  {
   "cell_type": "markdown",
   "id": "f88a6433",
   "metadata": {},
   "source": [
    "## 8. Correção do Desequilíbrio de Classes\n",
    "\n",
    "Vamos aplicar duas técnicas para corrigir o desequilíbrio de classes:\n",
    "\n",
    "1. **Uso do parâmetro `class_weight='balanced'` em modelos.\n",
    "2. **Oversampling com `SMOTE` (Synthetic Minority Over-sampling Technique).\n",
    "\n",
    "Essas abordagens ajudam a evitar que o modelo aprenda apenas os padrões da classe majoritária (clientes que não saem)."
   ]
  },
  {
   "cell_type": "code",
   "execution_count": null,
   "id": "37a42dba",
   "metadata": {},
   "outputs": [],
   "source": [
    "# Instalar imblearn se necessário\n",
    "!pip install -q imbalanced-learn\n",
    "\n",
    "# Importar técnicas de balanceamento\n",
    "from imblearn.over_sampling import SMOTE\n",
    "from sklearn.linear_model import LogisticRegression"
   ]
  },
  {
   "cell_type": "markdown",
   "id": "38ac1f1c",
   "metadata": {},
   "source": [
    "### Modelo com `class_weight='balanced'`\n",
    "\n",
    "Vamos treinar o modelo `RandomForestClassifier` com o parâmetro `class_weight='balanced'`, que ajusta automaticamente o peso das classes inversamente proporcional à sua frequência."
   ]
  },
  {
   "cell_type": "code",
   "execution_count": null,
   "id": "94af2697",
   "metadata": {},
   "outputs": [],
   "source": [
    "# Treinamento com class_weight='balanced'\n",
    "rf_balanced = RandomForestClassifier(random_state=42, class_weight='balanced')\n",
    "rf_balanced.fit(X_train, y_train)\n",
    "\n",
    "# Avaliação\n",
    "rf_balanced_pred = rf_balanced.predict(X_test)\n",
    "print(\"Random Forest Balanceado - Acurácia:\", accuracy_score(y_test, rf_balanced_pred))\n",
    "print(\"Relatório:\")\n",
    "print(classification_report(y_test, rf_balanced_pred))\n",
    "print(\"AUC-ROC:\", roc_auc_score(y_test, rf_balanced.predict_proba(X_test)[:, 1]))"
   ]
  },
  {
   "cell_type": "markdown",
   "id": "27ef3a4a",
   "metadata": {},
   "source": [
    "### Oversampling com SMOTE\n",
    "\n",
    "Agora usaremos a técnica SMOTE para gerar exemplos sintéticos da classe minoritária no conjunto de treino, equilibrando as classes."
   ]
  },
  {
   "cell_type": "code",
   "execution_count": null,
   "id": "313fdb11",
   "metadata": {},
   "outputs": [],
   "source": [
    "# Aplicando SMOTE\n",
    "smote = SMOTE(random_state=42)\n",
    "X_resampled, y_resampled = smote.fit_resample(X_train, y_train)\n",
    "\n",
    "# Treinamento com dados balanceados\n",
    "rf_smote = RandomForestClassifier(random_state=42)\n",
    "rf_smote.fit(X_resampled, y_resampled)\n",
    "\n",
    "# Avaliação\n",
    "rf_smote_pred = rf_smote.predict(X_test)\n",
    "print(\"Random Forest com SMOTE - Acurácia:\", accuracy_score(y_test, rf_smote_pred))\n",
    "print(\"Relatório:\")\n",
    "print(classification_report(y_test, rf_smote_pred))\n",
    "print(\"AUC-ROC:\", roc_auc_score(y_test, rf_smote.predict_proba(X_test)[:, 1]))"
   ]
  },
  {
   "cell_type": "markdown",
   "id": "341f1078",
   "metadata": {},
   "source": [
    "### Conclusão das Técnicas de Balanceamento\n",
    "\n",
    "Com o uso de `class_weight='balanced'` e `SMOTE`, os modelos passaram a ter uma **maior sensibilidade (recall)** para a classe dos clientes que saem (`Exited = 1`). Isso é crucial para evitar perda de clientes que poderiam ser retidos com ações proativas.\n",
    "\n",
    "Essas abordagens ajudam a melhorar a generalização do modelo em contextos com classes desbalanceadas, como é comum em problemas de churn."
   ]
  }
 ],
 "metadata": {
  "ExecuteTimeLog": [
   {
    "duration": 9,
    "start_time": "2024-10-26T10:36:42.934Z"
   },
   {
    "duration": 304,
    "start_time": "2024-10-26T10:37:38.242Z"
   },
   {
    "duration": 14,
    "start_time": "2024-10-26T10:40:43.996Z"
   },
   {
    "duration": 5,
    "start_time": "2024-10-26T10:42:15.939Z"
   },
   {
    "duration": 89,
    "start_time": "2024-10-26T10:43:02.968Z"
   },
   {
    "duration": 138,
    "start_time": "2024-10-26T10:45:40.228Z"
   },
   {
    "duration": 9,
    "start_time": "2024-10-26T10:45:51.098Z"
   },
   {
    "duration": 187,
    "start_time": "2024-10-26T10:47:09.519Z"
   },
   {
    "duration": 765,
    "start_time": "2024-10-26T10:53:01.979Z"
   },
   {
    "duration": 45,
    "start_time": "2024-10-26T10:53:41.916Z"
   },
   {
    "duration": 20,
    "start_time": "2024-10-26T10:53:52.085Z"
   },
   {
    "duration": 13,
    "start_time": "2024-10-26T10:54:04.483Z"
   },
   {
    "duration": 9,
    "start_time": "2024-10-26T10:54:24.333Z"
   },
   {
    "duration": 92,
    "start_time": "2024-10-26T10:54:30.256Z"
   },
   {
    "duration": 8,
    "start_time": "2024-10-26T10:54:37.441Z"
   },
   {
    "duration": 266,
    "start_time": "2024-10-26T10:54:45.335Z"
   },
   {
    "duration": 295,
    "start_time": "2024-10-26T10:56:12.958Z"
   },
   {
    "duration": 19,
    "start_time": "2024-10-26T10:56:13.255Z"
   },
   {
    "duration": 578,
    "start_time": "2024-10-26T10:56:13.275Z"
   },
   {
    "duration": 185,
    "start_time": "2024-10-26T10:56:13.855Z"
   },
   {
    "duration": 185,
    "start_time": "2024-10-26T10:56:14.042Z"
   },
   {
    "duration": 19,
    "start_time": "2024-10-26T10:56:53.918Z"
   },
   {
    "duration": 14,
    "start_time": "2024-10-26T10:57:20.309Z"
   },
   {
    "duration": 91,
    "start_time": "2024-10-26T10:57:44.033Z"
   },
   {
    "duration": 8,
    "start_time": "2024-10-26T10:57:53.109Z"
   },
   {
    "duration": 7,
    "start_time": "2024-10-26T10:58:07.238Z"
   },
   {
    "duration": 29,
    "start_time": "2024-10-26T10:58:10.717Z"
   },
   {
    "duration": 787,
    "start_time": "2024-10-26T11:03:02.557Z"
   },
   {
    "duration": 342,
    "start_time": "2024-10-26T11:04:03.385Z"
   },
   {
    "duration": 16,
    "start_time": "2024-10-26T11:04:03.730Z"
   },
   {
    "duration": 603,
    "start_time": "2024-10-26T11:04:03.748Z"
   },
   {
    "duration": 183,
    "start_time": "2024-10-26T11:04:04.353Z"
   },
   {
    "duration": 415,
    "start_time": "2024-10-26T11:04:04.538Z"
   },
   {
    "duration": 91,
    "start_time": "2024-10-26T11:05:24.821Z"
   },
   {
    "duration": 8,
    "start_time": "2024-10-26T11:05:40.706Z"
   },
   {
    "duration": 126,
    "start_time": "2024-10-26T11:05:49.987Z"
   },
   {
    "duration": 65,
    "start_time": "2024-10-26T11:05:52.888Z"
   },
   {
    "duration": 65,
    "start_time": "2024-10-26T11:07:25.012Z"
   },
   {
    "duration": 632,
    "start_time": "2024-10-26T11:12:35.589Z"
   },
   {
    "duration": 42,
    "start_time": "2024-10-26T11:13:49.447Z"
   },
   {
    "duration": 40,
    "start_time": "2024-10-26T11:14:20.069Z"
   },
   {
    "duration": 21,
    "start_time": "2024-10-26T11:14:33.504Z"
   },
   {
    "duration": 90,
    "start_time": "2024-10-26T11:14:43.092Z"
   },
   {
    "duration": 8,
    "start_time": "2024-10-26T11:14:50.754Z"
   },
   {
    "duration": 657,
    "start_time": "2024-10-26T11:14:58.545Z"
   },
   {
    "duration": 23,
    "start_time": "2024-10-26T11:16:51.114Z"
   },
   {
    "duration": 34,
    "start_time": "2024-10-26T11:20:15.486Z"
   },
   {
    "duration": 73,
    "start_time": "2024-10-26T11:20:21.567Z"
   },
   {
    "duration": 92,
    "start_time": "2024-10-26T11:20:31.179Z"
   },
   {
    "duration": 166,
    "start_time": "2024-10-26T11:20:41.121Z"
   },
   {
    "duration": 326,
    "start_time": "2024-10-26T11:21:05.114Z"
   },
   {
    "duration": 66,
    "start_time": "2024-10-26T11:21:05.443Z"
   },
   {
    "duration": 636,
    "start_time": "2024-10-26T11:21:05.511Z"
   },
   {
    "duration": 336,
    "start_time": "2024-10-26T11:21:06.149Z"
   },
   {
    "duration": 246,
    "start_time": "2024-10-26T11:21:06.488Z"
   },
   {
    "duration": 47,
    "start_time": "2024-10-26T11:23:41.032Z"
   },
   {
    "duration": 74,
    "start_time": "2024-10-26T11:23:46.304Z"
   },
   {
    "duration": 155,
    "start_time": "2024-10-26T11:23:48.855Z"
   },
   {
    "duration": 156,
    "start_time": "2024-10-26T11:24:04.302Z"
   },
   {
    "duration": 147,
    "start_time": "2024-10-26T11:24:11.011Z"
   },
   {
    "duration": 5,
    "start_time": "2024-10-26T11:25:47.895Z"
   },
   {
    "duration": 16,
    "start_time": "2024-10-26T11:26:06.804Z"
   },
   {
    "duration": 3,
    "start_time": "2024-10-26T11:26:25.920Z"
   },
   {
    "duration": 9,
    "start_time": "2024-10-26T11:26:42.522Z"
   },
   {
    "duration": 29,
    "start_time": "2024-10-26T11:30:40.416Z"
   },
   {
    "duration": 5,
    "start_time": "2024-10-26T11:32:28.947Z"
   },
   {
    "duration": 7,
    "start_time": "2024-10-26T11:33:07.738Z"
   },
   {
    "duration": 4,
    "start_time": "2024-10-26T11:34:04.106Z"
   },
   {
    "duration": 7,
    "start_time": "2024-10-26T11:35:16.034Z"
   },
   {
    "duration": 5,
    "start_time": "2024-10-26T11:35:49.032Z"
   },
   {
    "duration": 4,
    "start_time": "2024-10-26T11:39:07.313Z"
   },
   {
    "duration": 29,
    "start_time": "2024-10-26T11:39:17.497Z"
   },
   {
    "duration": 5,
    "start_time": "2024-10-26T11:40:08.901Z"
   },
   {
    "duration": 6,
    "start_time": "2024-10-26T11:41:16.466Z"
   },
   {
    "duration": 7,
    "start_time": "2024-10-26T11:41:39.080Z"
   },
   {
    "duration": 7,
    "start_time": "2024-10-26T11:42:11.484Z"
   },
   {
    "duration": 4,
    "start_time": "2024-10-26T11:42:18.016Z"
   },
   {
    "duration": 8,
    "start_time": "2024-10-26T11:42:47.089Z"
   },
   {
    "duration": 5,
    "start_time": "2024-10-26T11:44:13.811Z"
   },
   {
    "duration": 6,
    "start_time": "2024-10-26T11:45:46.784Z"
   },
   {
    "duration": 675,
    "start_time": "2024-10-26T11:47:01.309Z"
   },
   {
    "duration": 25,
    "start_time": "2024-10-26T11:49:59.484Z"
   },
   {
    "duration": 23,
    "start_time": "2024-10-26T13:12:34.793Z"
   },
   {
    "duration": 20,
    "start_time": "2024-10-26T13:13:10.154Z"
   },
   {
    "duration": 4,
    "start_time": "2024-10-26T13:17:24.108Z"
   },
   {
    "duration": 391,
    "start_time": "2024-10-26T13:20:40.375Z"
   },
   {
    "duration": 43130,
    "start_time": "2024-10-26T13:22:21.542Z"
   },
   {
    "duration": 42729,
    "start_time": "2024-10-26T13:26:02.618Z"
   },
   {
    "duration": 44,
    "start_time": "2024-10-26T13:30:17.694Z"
   },
   {
    "duration": 2,
    "start_time": "2024-10-26T13:35:26.616Z"
   },
   {
    "duration": 29,
    "start_time": "2024-10-26T13:37:19.322Z"
   },
   {
    "duration": 42,
    "start_time": "2024-10-26T13:38:19.469Z"
   },
   {
    "duration": 528,
    "start_time": "2024-10-26T13:44:38.018Z"
   },
   {
    "duration": 41,
    "start_time": "2024-10-26T13:45:13.485Z"
   },
   {
    "duration": 4,
    "start_time": "2024-10-26T13:47:47.925Z"
   },
   {
    "duration": 4,
    "start_time": "2024-10-26T14:07:05.460Z"
   },
   {
    "duration": 43,
    "start_time": "2024-10-26T14:08:38.762Z"
   },
   {
    "duration": 48,
    "start_time": "2024-10-26T14:09:31.798Z"
   },
   {
    "duration": 49,
    "start_time": "2024-10-26T14:11:09.139Z"
   },
   {
    "duration": 56,
    "start_time": "2024-10-26T14:11:43.255Z"
   },
   {
    "duration": 56,
    "start_time": "2024-10-26T14:12:23.226Z"
   },
   {
    "duration": 222,
    "start_time": "2024-10-26T14:13:06.066Z"
   },
   {
    "duration": 43,
    "start_time": "2024-10-26T14:16:37.005Z"
   },
   {
    "duration": 78,
    "start_time": "2024-10-26T14:17:03.820Z"
   },
   {
    "duration": 45,
    "start_time": "2024-10-26T14:18:04.781Z"
   },
   {
    "duration": 28,
    "start_time": "2024-10-26T14:19:30.745Z"
   },
   {
    "duration": 3,
    "start_time": "2024-10-26T14:19:53.133Z"
   },
   {
    "duration": 14,
    "start_time": "2024-10-26T14:19:55.870Z"
   },
   {
    "duration": 32,
    "start_time": "2024-10-26T14:20:00.879Z"
   },
   {
    "duration": 43,
    "start_time": "2024-10-26T14:20:17.180Z"
   },
   {
    "duration": 3,
    "start_time": "2024-10-26T14:22:22.625Z"
   },
   {
    "duration": 366,
    "start_time": "2024-10-26T14:22:40.661Z"
   },
   {
    "duration": 39,
    "start_time": "2024-10-26T14:23:06.858Z"
   },
   {
    "duration": 13,
    "start_time": "2024-10-26T14:25:32.392Z"
   },
   {
    "duration": 32,
    "start_time": "2024-10-26T14:25:35.915Z"
   },
   {
    "duration": 5,
    "start_time": "2024-10-26T14:26:27.070Z"
   },
   {
    "duration": 4,
    "start_time": "2024-10-26T14:27:30.497Z"
   },
   {
    "duration": 23,
    "start_time": "2024-10-26T14:27:34.840Z"
   },
   {
    "duration": 4,
    "start_time": "2024-10-26T14:28:35.575Z"
   },
   {
    "duration": 4,
    "start_time": "2024-10-26T14:30:18.029Z"
   },
   {
    "duration": 774,
    "start_time": "2024-10-26T14:30:30.226Z"
   },
   {
    "duration": 15,
    "start_time": "2024-10-26T14:30:31.003Z"
   },
   {
    "duration": 34,
    "start_time": "2024-10-26T14:30:31.019Z"
   },
   {
    "duration": 16,
    "start_time": "2024-10-26T14:30:31.056Z"
   },
   {
    "duration": 4,
    "start_time": "2024-10-26T14:30:31.074Z"
   },
   {
    "duration": 4,
    "start_time": "2024-10-26T14:32:08.987Z"
   },
   {
    "duration": 8,
    "start_time": "2024-10-26T14:32:32.540Z"
   },
   {
    "duration": 141,
    "start_time": "2024-10-26T14:33:08.932Z"
   },
   {
    "duration": 12,
    "start_time": "2024-10-26T14:34:13.243Z"
   },
   {
    "duration": 27,
    "start_time": "2024-10-26T14:34:47.187Z"
   },
   {
    "duration": 105,
    "start_time": "2024-10-26T14:35:27.599Z"
   },
   {
    "duration": 26,
    "start_time": "2024-10-26T14:40:16.987Z"
   },
   {
    "duration": 14,
    "start_time": "2024-10-26T14:40:41.553Z"
   },
   {
    "duration": 15,
    "start_time": "2024-10-26T14:41:05.856Z"
   },
   {
    "duration": 14,
    "start_time": "2024-10-26T14:41:25.993Z"
   },
   {
    "duration": 16,
    "start_time": "2024-10-26T14:42:08.976Z"
   },
   {
    "duration": 14,
    "start_time": "2024-10-26T14:42:42.779Z"
   },
   {
    "duration": 6,
    "start_time": "2024-10-26T14:43:05.761Z"
   },
   {
    "duration": 6,
    "start_time": "2024-10-26T14:43:42.224Z"
   },
   {
    "duration": 216,
    "start_time": "2024-10-26T14:44:10.280Z"
   },
   {
    "duration": 15,
    "start_time": "2024-10-26T14:44:43.376Z"
   },
   {
    "duration": 58,
    "start_time": "2024-10-26T14:45:20.921Z"
   },
   {
    "duration": 14,
    "start_time": "2024-10-26T14:45:47.083Z"
   },
   {
    "duration": 790,
    "start_time": "2024-10-26T14:46:05.598Z"
   },
   {
    "duration": 16,
    "start_time": "2024-10-26T14:46:06.390Z"
   },
   {
    "duration": 33,
    "start_time": "2024-10-26T14:46:06.407Z"
   },
   {
    "duration": 3,
    "start_time": "2024-10-26T14:46:06.443Z"
   },
   {
    "duration": 22,
    "start_time": "2024-10-26T14:46:06.448Z"
   },
   {
    "duration": 3,
    "start_time": "2024-10-26T14:46:06.472Z"
   },
   {
    "duration": 6,
    "start_time": "2024-10-26T14:46:06.478Z"
   },
   {
    "duration": 164,
    "start_time": "2024-10-26T14:46:06.486Z"
   },
   {
    "duration": 0,
    "start_time": "2024-10-26T14:46:06.653Z"
   },
   {
    "duration": 0,
    "start_time": "2024-10-26T14:46:06.655Z"
   },
   {
    "duration": 0,
    "start_time": "2024-10-26T14:46:06.669Z"
   },
   {
    "duration": 0,
    "start_time": "2024-10-26T14:46:06.671Z"
   },
   {
    "duration": 0,
    "start_time": "2024-10-26T14:46:06.672Z"
   },
   {
    "duration": 0,
    "start_time": "2024-10-26T14:46:06.673Z"
   },
   {
    "duration": 0,
    "start_time": "2024-10-26T14:46:06.675Z"
   },
   {
    "duration": 0,
    "start_time": "2024-10-26T14:46:06.677Z"
   },
   {
    "duration": 0,
    "start_time": "2024-10-26T14:46:06.679Z"
   },
   {
    "duration": 0,
    "start_time": "2024-10-26T14:46:06.680Z"
   },
   {
    "duration": 0,
    "start_time": "2024-10-26T14:46:06.682Z"
   },
   {
    "duration": 13,
    "start_time": "2024-10-26T14:47:16.710Z"
   },
   {
    "duration": 26,
    "start_time": "2024-10-26T14:47:20.549Z"
   },
   {
    "duration": 106,
    "start_time": "2024-10-26T14:47:28.571Z"
   },
   {
    "duration": 14,
    "start_time": "2024-10-26T14:47:33.989Z"
   },
   {
    "duration": 14,
    "start_time": "2024-10-26T14:47:39.565Z"
   },
   {
    "duration": 14,
    "start_time": "2024-10-26T14:47:44.587Z"
   },
   {
    "duration": 6,
    "start_time": "2024-10-26T14:47:49.389Z"
   },
   {
    "duration": 10,
    "start_time": "2024-10-26T14:47:52.715Z"
   },
   {
    "duration": 219,
    "start_time": "2024-10-26T14:47:59.820Z"
   },
   {
    "duration": 14,
    "start_time": "2024-10-26T14:48:10.335Z"
   },
   {
    "duration": 15,
    "start_time": "2024-10-26T14:48:15.345Z"
   },
   {
    "duration": 19,
    "start_time": "2024-10-26T14:49:33.720Z"
   },
   {
    "duration": 3,
    "start_time": "2024-10-26T14:50:12.418Z"
   },
   {
    "duration": 15,
    "start_time": "2024-10-26T14:50:35.093Z"
   },
   {
    "duration": 32,
    "start_time": "2024-10-26T14:50:44.784Z"
   },
   {
    "duration": 3,
    "start_time": "2024-10-26T14:51:03.796Z"
   },
   {
    "duration": 4,
    "start_time": "2024-10-26T14:51:15.227Z"
   },
   {
    "duration": 3,
    "start_time": "2024-10-26T14:51:18.201Z"
   },
   {
    "duration": 7,
    "start_time": "2024-10-26T14:52:28.244Z"
   },
   {
    "duration": 7,
    "start_time": "2024-10-26T14:52:50.993Z"
   },
   {
    "duration": 4,
    "start_time": "2024-10-26T14:52:56.312Z"
   },
   {
    "duration": 7,
    "start_time": "2024-10-26T14:52:58.852Z"
   },
   {
    "duration": 366,
    "start_time": "2024-10-26T14:53:25.375Z"
   },
   {
    "duration": 3,
    "start_time": "2024-10-26T14:53:41.468Z"
   },
   {
    "duration": 15,
    "start_time": "2024-10-26T14:53:48.897Z"
   },
   {
    "duration": 33,
    "start_time": "2024-10-26T14:53:52.931Z"
   },
   {
    "duration": 4,
    "start_time": "2024-10-26T14:54:01.092Z"
   },
   {
    "duration": 5,
    "start_time": "2024-10-26T14:54:04.534Z"
   },
   {
    "duration": 6,
    "start_time": "2024-10-26T14:54:07.804Z"
   },
   {
    "duration": 4,
    "start_time": "2024-10-26T14:54:12.796Z"
   },
   {
    "duration": 7,
    "start_time": "2024-10-26T14:54:17.972Z"
   },
   {
    "duration": 9,
    "start_time": "2024-10-26T14:54:21.932Z"
   },
   {
    "duration": 7,
    "start_time": "2024-10-26T14:55:06.901Z"
   },
   {
    "duration": 8,
    "start_time": "2024-10-26T14:55:28.650Z"
   },
   {
    "duration": 5,
    "start_time": "2024-10-26T14:57:20.763Z"
   },
   {
    "duration": 75,
    "start_time": "2024-10-26T14:57:47.505Z"
   },
   {
    "duration": 81,
    "start_time": "2024-10-26T15:00:11.727Z"
   },
   {
    "duration": 13,
    "start_time": "2024-10-26T15:00:34.958Z"
   },
   {
    "duration": 14,
    "start_time": "2024-10-26T15:01:08.554Z"
   },
   {
    "duration": 17,
    "start_time": "2024-10-26T15:01:36.561Z"
   },
   {
    "duration": 14,
    "start_time": "2024-10-26T15:02:03.778Z"
   },
   {
    "duration": 4,
    "start_time": "2024-10-26T15:02:28.621Z"
   },
   {
    "duration": 5,
    "start_time": "2024-10-26T15:02:50.716Z"
   },
   {
    "duration": 60,
    "start_time": "2024-10-26T15:03:11.352Z"
   },
   {
    "duration": 15,
    "start_time": "2024-10-26T15:03:31.397Z"
   },
   {
    "duration": 18,
    "start_time": "2024-10-26T15:07:28.451Z"
   },
   {
    "duration": 8866,
    "start_time": "2024-10-26T15:09:34.057Z"
   },
   {
    "duration": 21,
    "start_time": "2024-10-26T15:10:17.013Z"
   },
   {
    "duration": 1381,
    "start_time": "2024-10-26T15:12:03.788Z"
   },
   {
    "duration": 6,
    "start_time": "2024-10-26T15:13:35.284Z"
   },
   {
    "duration": 1345,
    "start_time": "2024-10-26T15:14:39.733Z"
   },
   {
    "duration": 1324,
    "start_time": "2024-10-26T15:17:37.614Z"
   },
   {
    "duration": 17,
    "start_time": "2024-10-26T15:17:47.118Z"
   },
   {
    "duration": 2065,
    "start_time": "2024-10-26T15:18:00.418Z"
   },
   {
    "duration": 15,
    "start_time": "2024-10-26T15:18:02.485Z"
   },
   {
    "duration": 33,
    "start_time": "2024-10-26T15:18:02.502Z"
   },
   {
    "duration": 4,
    "start_time": "2024-10-26T15:18:02.537Z"
   },
   {
    "duration": 4,
    "start_time": "2024-10-26T15:18:02.542Z"
   },
   {
    "duration": 27,
    "start_time": "2024-10-26T15:18:02.548Z"
   },
   {
    "duration": 4,
    "start_time": "2024-10-26T15:18:02.576Z"
   },
   {
    "duration": 6,
    "start_time": "2024-10-26T15:18:02.582Z"
   },
   {
    "duration": 7,
    "start_time": "2024-10-26T15:18:02.590Z"
   },
   {
    "duration": 4,
    "start_time": "2024-10-26T15:18:02.600Z"
   },
   {
    "duration": 401,
    "start_time": "2024-10-26T15:18:02.605Z"
   },
   {
    "duration": 0,
    "start_time": "2024-10-26T15:18:03.008Z"
   },
   {
    "duration": 0,
    "start_time": "2024-10-26T15:18:03.009Z"
   },
   {
    "duration": 0,
    "start_time": "2024-10-26T15:18:03.011Z"
   },
   {
    "duration": 0,
    "start_time": "2024-10-26T15:18:03.012Z"
   },
   {
    "duration": 0,
    "start_time": "2024-10-26T15:18:03.013Z"
   },
   {
    "duration": 0,
    "start_time": "2024-10-26T15:18:03.015Z"
   },
   {
    "duration": 0,
    "start_time": "2024-10-26T15:18:03.017Z"
   },
   {
    "duration": 0,
    "start_time": "2024-10-26T15:18:03.018Z"
   },
   {
    "duration": 13,
    "start_time": "2024-10-26T15:19:22.395Z"
   },
   {
    "duration": 13,
    "start_time": "2024-10-26T15:19:30.200Z"
   },
   {
    "duration": 14,
    "start_time": "2024-10-26T15:19:37.657Z"
   },
   {
    "duration": 66,
    "start_time": "2024-10-26T15:19:49.181Z"
   },
   {
    "duration": 15,
    "start_time": "2024-10-26T15:19:55.970Z"
   },
   {
    "duration": 6,
    "start_time": "2024-10-26T15:20:01.374Z"
   },
   {
    "duration": 4,
    "start_time": "2024-10-26T15:20:06.739Z"
   },
   {
    "duration": 63,
    "start_time": "2024-10-26T15:20:09.854Z"
   },
   {
    "duration": 1361,
    "start_time": "2024-10-26T15:20:50.415Z"
   },
   {
    "duration": 2337,
    "start_time": "2024-10-26T15:23:22.363Z"
   },
   {
    "duration": 0,
    "start_time": "2024-10-26T15:23:24.702Z"
   },
   {
    "duration": 0,
    "start_time": "2024-10-26T15:23:24.704Z"
   },
   {
    "duration": 0,
    "start_time": "2024-10-26T15:23:24.705Z"
   },
   {
    "duration": 0,
    "start_time": "2024-10-26T15:23:24.707Z"
   },
   {
    "duration": 0,
    "start_time": "2024-10-26T15:23:24.708Z"
   },
   {
    "duration": 0,
    "start_time": "2024-10-26T15:23:24.710Z"
   },
   {
    "duration": 0,
    "start_time": "2024-10-26T15:23:24.711Z"
   },
   {
    "duration": 0,
    "start_time": "2024-10-26T15:23:24.713Z"
   },
   {
    "duration": 0,
    "start_time": "2024-10-26T15:23:24.714Z"
   },
   {
    "duration": 0,
    "start_time": "2024-10-26T15:23:24.716Z"
   },
   {
    "duration": 0,
    "start_time": "2024-10-26T15:23:24.717Z"
   },
   {
    "duration": 0,
    "start_time": "2024-10-26T15:23:24.718Z"
   },
   {
    "duration": 0,
    "start_time": "2024-10-26T15:23:24.720Z"
   },
   {
    "duration": 0,
    "start_time": "2024-10-26T15:23:24.721Z"
   },
   {
    "duration": 0,
    "start_time": "2024-10-26T15:23:24.722Z"
   },
   {
    "duration": 0,
    "start_time": "2024-10-26T15:23:24.723Z"
   },
   {
    "duration": 0,
    "start_time": "2024-10-26T15:23:24.724Z"
   },
   {
    "duration": 0,
    "start_time": "2024-10-26T15:23:24.725Z"
   },
   {
    "duration": 23,
    "start_time": "2024-10-26T15:31:06.028Z"
   },
   {
    "duration": 4,
    "start_time": "2024-10-26T15:36:03.239Z"
   },
   {
    "duration": 19,
    "start_time": "2024-10-26T15:36:15.060Z"
   },
   {
    "duration": 1499,
    "start_time": "2024-10-26T15:39:17.260Z"
   },
   {
    "duration": 1322,
    "start_time": "2024-10-26T15:41:44.857Z"
   },
   {
    "duration": 5,
    "start_time": "2024-10-26T15:45:40.610Z"
   },
   {
    "duration": 16,
    "start_time": "2024-10-26T15:45:47.246Z"
   },
   {
    "duration": 35,
    "start_time": "2024-10-26T15:45:51.858Z"
   },
   {
    "duration": 766,
    "start_time": "2024-10-26T15:46:03.826Z"
   },
   {
    "duration": 16,
    "start_time": "2024-10-26T15:46:04.594Z"
   },
   {
    "duration": 33,
    "start_time": "2024-10-26T15:46:04.611Z"
   },
   {
    "duration": 3,
    "start_time": "2024-10-26T15:46:04.646Z"
   },
   {
    "duration": 238,
    "start_time": "2024-10-26T15:46:04.651Z"
   },
   {
    "duration": 0,
    "start_time": "2024-10-26T15:46:04.891Z"
   },
   {
    "duration": 0,
    "start_time": "2024-10-26T15:46:04.892Z"
   },
   {
    "duration": 0,
    "start_time": "2024-10-26T15:46:04.893Z"
   },
   {
    "duration": 0,
    "start_time": "2024-10-26T15:46:04.894Z"
   },
   {
    "duration": 0,
    "start_time": "2024-10-26T15:46:04.895Z"
   },
   {
    "duration": 0,
    "start_time": "2024-10-26T15:46:04.896Z"
   },
   {
    "duration": 0,
    "start_time": "2024-10-26T15:46:04.897Z"
   },
   {
    "duration": 0,
    "start_time": "2024-10-26T15:46:04.898Z"
   },
   {
    "duration": 0,
    "start_time": "2024-10-26T15:46:04.899Z"
   },
   {
    "duration": 0,
    "start_time": "2024-10-26T15:46:04.900Z"
   },
   {
    "duration": 0,
    "start_time": "2024-10-26T15:46:04.901Z"
   },
   {
    "duration": 0,
    "start_time": "2024-10-26T15:46:04.902Z"
   },
   {
    "duration": 0,
    "start_time": "2024-10-26T15:46:04.903Z"
   },
   {
    "duration": 0,
    "start_time": "2024-10-26T15:46:04.904Z"
   },
   {
    "duration": 3,
    "start_time": "2024-10-26T15:48:11.331Z"
   },
   {
    "duration": 14,
    "start_time": "2024-10-26T15:48:18.511Z"
   },
   {
    "duration": 33,
    "start_time": "2024-10-26T15:48:21.366Z"
   },
   {
    "duration": 3,
    "start_time": "2024-10-26T15:48:31.214Z"
   },
   {
    "duration": 5,
    "start_time": "2024-10-26T15:48:34.047Z"
   },
   {
    "duration": 7,
    "start_time": "2024-10-26T15:48:38.737Z"
   },
   {
    "duration": 5,
    "start_time": "2024-10-26T15:48:42.684Z"
   },
   {
    "duration": 8,
    "start_time": "2024-10-26T15:48:45.925Z"
   },
   {
    "duration": 10,
    "start_time": "2024-10-26T15:48:51.399Z"
   },
   {
    "duration": 12,
    "start_time": "2024-10-26T15:48:54.689Z"
   },
   {
    "duration": 171,
    "start_time": "2024-10-26T15:49:02.760Z"
   },
   {
    "duration": 768,
    "start_time": "2024-10-26T15:56:45.751Z"
   },
   {
    "duration": 25,
    "start_time": "2024-10-26T15:56:46.521Z"
   },
   {
    "duration": 41,
    "start_time": "2024-10-26T15:56:46.554Z"
   },
   {
    "duration": 3,
    "start_time": "2024-10-26T15:56:46.598Z"
   },
   {
    "duration": 4,
    "start_time": "2024-10-26T15:56:46.603Z"
   },
   {
    "duration": 6,
    "start_time": "2024-10-26T15:56:46.609Z"
   },
   {
    "duration": 8,
    "start_time": "2024-10-26T15:56:46.616Z"
   },
   {
    "duration": 3,
    "start_time": "2024-10-26T15:56:46.625Z"
   },
   {
    "duration": 6,
    "start_time": "2024-10-26T15:56:46.629Z"
   },
   {
    "duration": 37,
    "start_time": "2024-10-26T15:56:46.638Z"
   },
   {
    "duration": 4,
    "start_time": "2024-10-26T15:56:46.677Z"
   },
   {
    "duration": 777,
    "start_time": "2024-10-26T15:56:46.683Z"
   },
   {
    "duration": 13,
    "start_time": "2024-10-26T15:56:47.462Z"
   },
   {
    "duration": 35,
    "start_time": "2024-10-26T15:56:47.477Z"
   },
   {
    "duration": 3,
    "start_time": "2024-10-26T15:56:47.514Z"
   },
   {
    "duration": 234,
    "start_time": "2024-10-26T15:56:47.518Z"
   },
   {
    "duration": 0,
    "start_time": "2024-10-26T15:56:47.754Z"
   },
   {
    "duration": 0,
    "start_time": "2024-10-26T15:56:47.756Z"
   },
   {
    "duration": 0,
    "start_time": "2024-10-26T15:56:47.757Z"
   },
   {
    "duration": 0,
    "start_time": "2024-10-26T15:56:47.757Z"
   },
   {
    "duration": 0,
    "start_time": "2024-10-26T15:56:47.770Z"
   },
   {
    "duration": 883,
    "start_time": "2024-10-26T16:09:02.259Z"
   },
   {
    "duration": 15,
    "start_time": "2024-10-26T16:09:03.145Z"
   },
   {
    "duration": 43,
    "start_time": "2024-10-26T16:09:03.161Z"
   },
   {
    "duration": 3,
    "start_time": "2024-10-26T16:09:03.206Z"
   },
   {
    "duration": 8,
    "start_time": "2024-10-26T16:09:03.212Z"
   },
   {
    "duration": 695,
    "start_time": "2024-10-26T16:09:03.222Z"
   },
   {
    "duration": 0,
    "start_time": "2024-10-26T16:09:03.920Z"
   },
   {
    "duration": 0,
    "start_time": "2024-10-26T16:09:03.921Z"
   },
   {
    "duration": 0,
    "start_time": "2024-10-26T16:09:03.922Z"
   },
   {
    "duration": 0,
    "start_time": "2024-10-26T16:09:03.923Z"
   },
   {
    "duration": 0,
    "start_time": "2024-10-26T16:09:03.925Z"
   },
   {
    "duration": 0,
    "start_time": "2024-10-26T16:09:03.927Z"
   },
   {
    "duration": 0,
    "start_time": "2024-10-26T16:09:03.928Z"
   },
   {
    "duration": 0,
    "start_time": "2024-10-26T16:09:03.929Z"
   },
   {
    "duration": 0,
    "start_time": "2024-10-26T16:09:03.930Z"
   },
   {
    "duration": 0,
    "start_time": "2024-10-26T16:09:03.931Z"
   },
   {
    "duration": 0,
    "start_time": "2024-10-26T16:09:03.932Z"
   },
   {
    "duration": 0,
    "start_time": "2024-10-26T16:09:03.934Z"
   },
   {
    "duration": 0,
    "start_time": "2024-10-26T16:09:03.935Z"
   },
   {
    "duration": 0,
    "start_time": "2024-10-26T16:09:03.937Z"
   },
   {
    "duration": 0,
    "start_time": "2024-10-26T16:09:03.939Z"
   },
   {
    "duration": 191,
    "start_time": "2024-10-26T16:09:43.892Z"
   },
   {
    "duration": 801,
    "start_time": "2024-10-26T16:11:04.635Z"
   },
   {
    "duration": 797,
    "start_time": "2024-10-26T16:27:04.500Z"
   },
   {
    "duration": 16,
    "start_time": "2024-10-26T16:27:05.299Z"
   },
   {
    "duration": 33,
    "start_time": "2024-10-26T16:27:05.317Z"
   },
   {
    "duration": 17,
    "start_time": "2024-10-26T16:27:05.353Z"
   },
   {
    "duration": 7,
    "start_time": "2024-10-26T16:27:05.372Z"
   },
   {
    "duration": 8,
    "start_time": "2024-10-26T16:27:05.380Z"
   },
   {
    "duration": 3,
    "start_time": "2024-10-26T16:27:05.389Z"
   },
   {
    "duration": 7,
    "start_time": "2024-10-26T16:27:05.394Z"
   },
   {
    "duration": 9,
    "start_time": "2024-10-26T16:27:05.403Z"
   },
   {
    "duration": 243,
    "start_time": "2024-10-26T16:27:05.415Z"
   },
   {
    "duration": 0,
    "start_time": "2024-10-26T16:27:05.660Z"
   },
   {
    "duration": 0,
    "start_time": "2024-10-26T16:27:05.661Z"
   },
   {
    "duration": 0,
    "start_time": "2024-10-26T16:27:05.670Z"
   },
   {
    "duration": 0,
    "start_time": "2024-10-26T16:27:05.671Z"
   },
   {
    "duration": 0,
    "start_time": "2024-10-26T16:27:05.673Z"
   },
   {
    "duration": 0,
    "start_time": "2024-10-26T16:27:05.674Z"
   },
   {
    "duration": 0,
    "start_time": "2024-10-26T16:27:05.675Z"
   },
   {
    "duration": 0,
    "start_time": "2024-10-26T16:27:05.676Z"
   },
   {
    "duration": 0,
    "start_time": "2024-10-26T16:27:05.678Z"
   },
   {
    "duration": 0,
    "start_time": "2024-10-26T16:27:05.679Z"
   },
   {
    "duration": 13,
    "start_time": "2024-10-26T16:28:12.393Z"
   },
   {
    "duration": 12,
    "start_time": "2024-10-26T16:28:36.084Z"
   },
   {
    "duration": 14,
    "start_time": "2024-10-26T16:29:52.673Z"
   },
   {
    "duration": 14,
    "start_time": "2024-10-26T16:30:44.619Z"
   },
   {
    "duration": 7,
    "start_time": "2024-10-26T16:35:27.942Z"
   },
   {
    "duration": 8,
    "start_time": "2024-10-26T16:37:08.092Z"
   },
   {
    "duration": 22,
    "start_time": "2024-10-26T16:39:07.968Z"
   },
   {
    "duration": 15,
    "start_time": "2024-10-26T16:44:09.994Z"
   },
   {
    "duration": 3,
    "start_time": "2024-10-26T16:48:36.859Z"
   },
   {
    "duration": 7,
    "start_time": "2024-10-26T16:49:09.511Z"
   },
   {
    "duration": 15,
    "start_time": "2024-10-26T16:51:24.108Z"
   },
   {
    "duration": 15,
    "start_time": "2024-10-26T16:54:57.791Z"
   },
   {
    "duration": 774,
    "start_time": "2024-10-26T16:56:19.316Z"
   },
   {
    "duration": 15,
    "start_time": "2024-10-26T16:56:20.092Z"
   },
   {
    "duration": 32,
    "start_time": "2024-10-26T16:56:20.110Z"
   },
   {
    "duration": 4,
    "start_time": "2024-10-26T16:56:20.144Z"
   },
   {
    "duration": 21,
    "start_time": "2024-10-26T16:56:20.150Z"
   },
   {
    "duration": 7,
    "start_time": "2024-10-26T16:56:20.172Z"
   },
   {
    "duration": 3,
    "start_time": "2024-10-26T16:56:20.181Z"
   },
   {
    "duration": 6,
    "start_time": "2024-10-26T16:56:20.187Z"
   },
   {
    "duration": 7,
    "start_time": "2024-10-26T16:56:20.195Z"
   },
   {
    "duration": 7,
    "start_time": "2024-10-26T16:56:20.203Z"
   },
   {
    "duration": 5,
    "start_time": "2024-10-26T16:56:20.212Z"
   },
   {
    "duration": 54,
    "start_time": "2024-10-26T16:56:20.218Z"
   },
   {
    "duration": 7,
    "start_time": "2024-10-26T16:56:20.273Z"
   },
   {
    "duration": 9,
    "start_time": "2024-10-26T16:56:20.284Z"
   },
   {
    "duration": 78,
    "start_time": "2024-10-26T16:56:20.295Z"
   },
   {
    "duration": 730,
    "start_time": "2024-10-26T16:56:20.375Z"
   },
   {
    "duration": 8,
    "start_time": "2024-10-26T16:56:21.107Z"
   },
   {
    "duration": 36,
    "start_time": "2024-10-26T16:56:21.117Z"
   },
   {
    "duration": 18,
    "start_time": "2024-10-26T16:56:21.154Z"
   },
   {
    "duration": 227,
    "start_time": "2024-10-26T16:56:21.173Z"
   },
   {
    "duration": 0,
    "start_time": "2024-10-26T16:56:21.401Z"
   },
   {
    "duration": 0,
    "start_time": "2024-10-26T16:56:21.402Z"
   },
   {
    "duration": 5,
    "start_time": "2024-10-26T17:01:39.263Z"
   },
   {
    "duration": 810,
    "start_time": "2024-10-26T17:13:04.178Z"
   },
   {
    "duration": 15,
    "start_time": "2024-10-26T17:13:04.990Z"
   },
   {
    "duration": 33,
    "start_time": "2024-10-26T17:13:05.007Z"
   },
   {
    "duration": 3,
    "start_time": "2024-10-26T17:13:05.042Z"
   },
   {
    "duration": 25,
    "start_time": "2024-10-26T17:13:05.046Z"
   },
   {
    "duration": 9,
    "start_time": "2024-10-26T17:13:05.072Z"
   },
   {
    "duration": 3,
    "start_time": "2024-10-26T17:13:05.082Z"
   },
   {
    "duration": 6,
    "start_time": "2024-10-26T17:13:05.087Z"
   },
   {
    "duration": 7,
    "start_time": "2024-10-26T17:13:05.094Z"
   },
   {
    "duration": 7,
    "start_time": "2024-10-26T17:13:05.104Z"
   },
   {
    "duration": 5,
    "start_time": "2024-10-26T17:13:05.113Z"
   },
   {
    "duration": 51,
    "start_time": "2024-10-26T17:13:05.120Z"
   },
   {
    "duration": 3,
    "start_time": "2024-10-26T17:13:05.173Z"
   },
   {
    "duration": 4,
    "start_time": "2024-10-26T17:13:05.178Z"
   },
   {
    "duration": 5,
    "start_time": "2024-10-26T17:13:05.184Z"
   },
   {
    "duration": 795,
    "start_time": "2024-10-26T17:13:05.190Z"
   },
   {
    "duration": 8,
    "start_time": "2024-10-26T17:13:05.987Z"
   },
   {
    "duration": 35,
    "start_time": "2024-10-26T17:13:05.997Z"
   },
   {
    "duration": 2,
    "start_time": "2024-10-26T17:13:06.034Z"
   },
   {
    "duration": 247,
    "start_time": "2024-10-26T17:13:06.039Z"
   },
   {
    "duration": 0,
    "start_time": "2024-10-26T17:13:06.288Z"
   },
   {
    "duration": 0,
    "start_time": "2024-10-26T17:13:06.290Z"
   },
   {
    "duration": 14,
    "start_time": "2024-10-26T17:14:21.457Z"
   },
   {
    "duration": 146,
    "start_time": "2024-10-26T17:18:25.748Z"
   },
   {
    "duration": 48,
    "start_time": "2024-10-26T17:25:51.079Z"
   },
   {
    "duration": 91,
    "start_time": "2024-10-26T17:25:53.034Z"
   },
   {
    "duration": 52,
    "start_time": "2024-10-26T17:29:39.925Z"
   },
   {
    "duration": 801,
    "start_time": "2024-10-26T17:30:04.582Z"
   },
   {
    "duration": 16,
    "start_time": "2024-10-26T17:30:05.385Z"
   },
   {
    "duration": 34,
    "start_time": "2024-10-26T17:30:05.402Z"
   },
   {
    "duration": 3,
    "start_time": "2024-10-26T17:30:05.440Z"
   },
   {
    "duration": 25,
    "start_time": "2024-10-26T17:30:05.445Z"
   },
   {
    "duration": 9,
    "start_time": "2024-10-26T17:30:05.472Z"
   },
   {
    "duration": 4,
    "start_time": "2024-10-26T17:30:05.482Z"
   },
   {
    "duration": 8,
    "start_time": "2024-10-26T17:30:05.488Z"
   },
   {
    "duration": 7,
    "start_time": "2024-10-26T17:30:05.497Z"
   },
   {
    "duration": 9,
    "start_time": "2024-10-26T17:30:05.507Z"
   },
   {
    "duration": 5,
    "start_time": "2024-10-26T17:30:05.517Z"
   },
   {
    "duration": 51,
    "start_time": "2024-10-26T17:30:05.524Z"
   },
   {
    "duration": 4,
    "start_time": "2024-10-26T17:30:05.576Z"
   },
   {
    "duration": 4,
    "start_time": "2024-10-26T17:30:05.582Z"
   },
   {
    "duration": 3,
    "start_time": "2024-10-26T17:30:05.588Z"
   },
   {
    "duration": 78,
    "start_time": "2024-10-26T17:30:05.593Z"
   },
   {
    "duration": 5,
    "start_time": "2024-10-26T17:30:05.673Z"
   },
   {
    "duration": 5,
    "start_time": "2024-10-26T17:30:05.680Z"
   },
   {
    "duration": 737,
    "start_time": "2024-10-26T17:30:05.686Z"
   },
   {
    "duration": 8,
    "start_time": "2024-10-26T17:30:06.424Z"
   },
   {
    "duration": 48,
    "start_time": "2024-10-26T17:30:06.434Z"
   },
   {
    "duration": 3,
    "start_time": "2024-10-26T17:30:06.483Z"
   },
   {
    "duration": 255,
    "start_time": "2024-10-26T17:30:06.488Z"
   },
   {
    "duration": 0,
    "start_time": "2024-10-26T17:30:06.744Z"
   },
   {
    "duration": 0,
    "start_time": "2024-10-26T17:30:06.745Z"
   },
   {
    "duration": 149,
    "start_time": "2024-10-26T17:31:23.065Z"
   },
   {
    "duration": 750,
    "start_time": "2024-10-26T17:31:53.446Z"
   },
   {
    "duration": 15,
    "start_time": "2024-10-26T17:31:54.198Z"
   },
   {
    "duration": 33,
    "start_time": "2024-10-26T17:31:54.214Z"
   },
   {
    "duration": 3,
    "start_time": "2024-10-26T17:31:54.249Z"
   },
   {
    "duration": 21,
    "start_time": "2024-10-26T17:31:54.254Z"
   },
   {
    "duration": 8,
    "start_time": "2024-10-26T17:31:54.277Z"
   },
   {
    "duration": 3,
    "start_time": "2024-10-26T17:31:54.287Z"
   },
   {
    "duration": 6,
    "start_time": "2024-10-26T17:31:54.291Z"
   },
   {
    "duration": 6,
    "start_time": "2024-10-26T17:31:54.299Z"
   },
   {
    "duration": 8,
    "start_time": "2024-10-26T17:31:54.308Z"
   },
   {
    "duration": 5,
    "start_time": "2024-10-26T17:31:54.317Z"
   },
   {
    "duration": 53,
    "start_time": "2024-10-26T17:31:54.324Z"
   },
   {
    "duration": 4,
    "start_time": "2024-10-26T17:31:54.378Z"
   },
   {
    "duration": 4,
    "start_time": "2024-10-26T17:31:54.384Z"
   },
   {
    "duration": 81,
    "start_time": "2024-10-26T17:31:54.390Z"
   },
   {
    "duration": 5,
    "start_time": "2024-10-26T17:31:54.472Z"
   },
   {
    "duration": 5,
    "start_time": "2024-10-26T17:31:54.479Z"
   },
   {
    "duration": 734,
    "start_time": "2024-10-26T17:31:54.485Z"
   },
   {
    "duration": 7,
    "start_time": "2024-10-26T17:31:55.221Z"
   },
   {
    "duration": 47,
    "start_time": "2024-10-26T17:31:55.230Z"
   },
   {
    "duration": 2,
    "start_time": "2024-10-26T17:31:55.279Z"
   },
   {
    "duration": 231,
    "start_time": "2024-10-26T17:31:55.283Z"
   },
   {
    "duration": 0,
    "start_time": "2024-10-26T17:31:55.516Z"
   },
   {
    "duration": 0,
    "start_time": "2024-10-26T17:31:55.516Z"
   },
   {
    "duration": 15,
    "start_time": "2024-10-26T17:36:58.737Z"
   },
   {
    "duration": 788,
    "start_time": "2024-10-26T17:38:02.198Z"
   },
   {
    "duration": 17,
    "start_time": "2024-10-26T17:38:02.988Z"
   },
   {
    "duration": 33,
    "start_time": "2024-10-26T17:38:03.006Z"
   },
   {
    "duration": 3,
    "start_time": "2024-10-26T17:38:03.041Z"
   },
   {
    "duration": 6,
    "start_time": "2024-10-26T17:38:03.046Z"
   },
   {
    "duration": 22,
    "start_time": "2024-10-26T17:38:03.054Z"
   },
   {
    "duration": 3,
    "start_time": "2024-10-26T17:38:03.077Z"
   },
   {
    "duration": 6,
    "start_time": "2024-10-26T17:38:03.082Z"
   },
   {
    "duration": 7,
    "start_time": "2024-10-26T17:38:03.089Z"
   },
   {
    "duration": 9,
    "start_time": "2024-10-26T17:38:03.099Z"
   },
   {
    "duration": 5,
    "start_time": "2024-10-26T17:38:03.110Z"
   },
   {
    "duration": 55,
    "start_time": "2024-10-26T17:38:03.116Z"
   },
   {
    "duration": 4,
    "start_time": "2024-10-26T17:38:03.172Z"
   },
   {
    "duration": 11,
    "start_time": "2024-10-26T17:38:03.178Z"
   },
   {
    "duration": 81,
    "start_time": "2024-10-26T17:38:03.190Z"
   },
   {
    "duration": 5,
    "start_time": "2024-10-26T17:38:03.273Z"
   },
   {
    "duration": 4,
    "start_time": "2024-10-26T17:38:03.280Z"
   },
   {
    "duration": 5,
    "start_time": "2024-10-26T17:38:03.286Z"
   },
   {
    "duration": 749,
    "start_time": "2024-10-26T17:38:03.293Z"
   },
   {
    "duration": 8,
    "start_time": "2024-10-26T17:38:04.044Z"
   },
   {
    "duration": 49,
    "start_time": "2024-10-26T17:38:04.054Z"
   },
   {
    "duration": 3,
    "start_time": "2024-10-26T17:38:04.105Z"
   },
   {
    "duration": 234,
    "start_time": "2024-10-26T17:38:04.110Z"
   },
   {
    "duration": 0,
    "start_time": "2024-10-26T17:38:04.346Z"
   },
   {
    "duration": 0,
    "start_time": "2024-10-26T17:38:04.348Z"
   },
   {
    "duration": 163,
    "start_time": "2024-10-26T17:40:22.684Z"
   },
   {
    "duration": 781,
    "start_time": "2024-10-26T17:41:51.505Z"
   },
   {
    "duration": 15,
    "start_time": "2024-10-26T17:41:52.289Z"
   },
   {
    "duration": 40,
    "start_time": "2024-10-26T17:41:52.306Z"
   },
   {
    "duration": 3,
    "start_time": "2024-10-26T17:41:52.349Z"
   },
   {
    "duration": 23,
    "start_time": "2024-10-26T17:41:52.353Z"
   },
   {
    "duration": 8,
    "start_time": "2024-10-26T17:41:52.378Z"
   },
   {
    "duration": 3,
    "start_time": "2024-10-26T17:41:52.387Z"
   },
   {
    "duration": 6,
    "start_time": "2024-10-26T17:41:52.391Z"
   },
   {
    "duration": 6,
    "start_time": "2024-10-26T17:41:52.400Z"
   },
   {
    "duration": 8,
    "start_time": "2024-10-26T17:41:52.410Z"
   },
   {
    "duration": 5,
    "start_time": "2024-10-26T17:41:52.419Z"
   },
   {
    "duration": 56,
    "start_time": "2024-10-26T17:41:52.425Z"
   },
   {
    "duration": 3,
    "start_time": "2024-10-26T17:41:52.483Z"
   },
   {
    "duration": 4,
    "start_time": "2024-10-26T17:41:52.488Z"
   },
   {
    "duration": 81,
    "start_time": "2024-10-26T17:41:52.494Z"
   },
   {
    "duration": 5,
    "start_time": "2024-10-26T17:41:52.577Z"
   },
   {
    "duration": 4,
    "start_time": "2024-10-26T17:41:52.583Z"
   },
   {
    "duration": 4,
    "start_time": "2024-10-26T17:41:52.589Z"
   },
   {
    "duration": 5,
    "start_time": "2024-10-26T17:41:52.595Z"
   },
   {
    "duration": 747,
    "start_time": "2024-10-26T17:41:52.602Z"
   },
   {
    "duration": 8,
    "start_time": "2024-10-26T17:41:53.351Z"
   },
   {
    "duration": 233,
    "start_time": "2024-10-26T17:41:53.361Z"
   },
   {
    "duration": 0,
    "start_time": "2024-10-26T17:41:53.596Z"
   },
   {
    "duration": 0,
    "start_time": "2024-10-26T17:41:53.597Z"
   },
   {
    "duration": 0,
    "start_time": "2024-10-26T17:41:53.598Z"
   },
   {
    "duration": 1,
    "start_time": "2024-10-26T17:41:53.599Z"
   },
   {
    "duration": 162,
    "start_time": "2024-10-26T17:43:33.184Z"
   },
   {
    "duration": 767,
    "start_time": "2024-10-26T17:44:13.228Z"
   },
   {
    "duration": 15,
    "start_time": "2024-10-26T17:44:13.997Z"
   },
   {
    "duration": 32,
    "start_time": "2024-10-26T17:44:14.014Z"
   },
   {
    "duration": 3,
    "start_time": "2024-10-26T17:44:14.048Z"
   },
   {
    "duration": 21,
    "start_time": "2024-10-26T17:44:14.054Z"
   },
   {
    "duration": 9,
    "start_time": "2024-10-26T17:44:14.076Z"
   },
   {
    "duration": 4,
    "start_time": "2024-10-26T17:44:14.086Z"
   },
   {
    "duration": 6,
    "start_time": "2024-10-26T17:44:14.091Z"
   },
   {
    "duration": 6,
    "start_time": "2024-10-26T17:44:14.098Z"
   },
   {
    "duration": 8,
    "start_time": "2024-10-26T17:44:14.108Z"
   },
   {
    "duration": 5,
    "start_time": "2024-10-26T17:44:14.118Z"
   },
   {
    "duration": 54,
    "start_time": "2024-10-26T17:44:14.124Z"
   },
   {
    "duration": 4,
    "start_time": "2024-10-26T17:44:14.179Z"
   },
   {
    "duration": 5,
    "start_time": "2024-10-26T17:44:14.185Z"
   },
   {
    "duration": 8,
    "start_time": "2024-10-26T17:44:14.191Z"
   },
   {
    "duration": 73,
    "start_time": "2024-10-26T17:44:14.201Z"
   },
   {
    "duration": 5,
    "start_time": "2024-10-26T17:44:14.275Z"
   },
   {
    "duration": 4,
    "start_time": "2024-10-26T17:44:14.281Z"
   },
   {
    "duration": 5,
    "start_time": "2024-10-26T17:44:14.287Z"
   },
   {
    "duration": 741,
    "start_time": "2024-10-26T17:44:14.293Z"
   },
   {
    "duration": 8,
    "start_time": "2024-10-26T17:44:15.035Z"
   },
   {
    "duration": 240,
    "start_time": "2024-10-26T17:44:15.045Z"
   },
   {
    "duration": 0,
    "start_time": "2024-10-26T17:44:15.287Z"
   },
   {
    "duration": 0,
    "start_time": "2024-10-26T17:44:15.288Z"
   },
   {
    "duration": 0,
    "start_time": "2024-10-26T17:44:15.289Z"
   },
   {
    "duration": 0,
    "start_time": "2024-10-26T17:44:15.291Z"
   },
   {
    "duration": 16,
    "start_time": "2024-10-26T21:43:57.568Z"
   },
   {
    "duration": 751,
    "start_time": "2024-10-26T21:48:07.730Z"
   },
   {
    "duration": 16,
    "start_time": "2024-10-26T21:48:08.483Z"
   },
   {
    "duration": 33,
    "start_time": "2024-10-26T21:48:08.500Z"
   },
   {
    "duration": 3,
    "start_time": "2024-10-26T21:48:08.535Z"
   },
   {
    "duration": 8,
    "start_time": "2024-10-26T21:48:08.540Z"
   },
   {
    "duration": 28,
    "start_time": "2024-10-26T21:48:08.549Z"
   },
   {
    "duration": 3,
    "start_time": "2024-10-26T21:48:08.579Z"
   },
   {
    "duration": 5,
    "start_time": "2024-10-26T21:48:08.584Z"
   },
   {
    "duration": 6,
    "start_time": "2024-10-26T21:48:08.591Z"
   },
   {
    "duration": 7,
    "start_time": "2024-10-26T21:48:08.599Z"
   },
   {
    "duration": 6,
    "start_time": "2024-10-26T21:48:08.607Z"
   },
   {
    "duration": 61,
    "start_time": "2024-10-26T21:48:08.614Z"
   },
   {
    "duration": 8,
    "start_time": "2024-10-26T21:48:08.676Z"
   },
   {
    "duration": 8,
    "start_time": "2024-10-26T21:48:08.687Z"
   },
   {
    "duration": 8,
    "start_time": "2024-10-26T21:48:08.771Z"
   },
   {
    "duration": 5,
    "start_time": "2024-10-26T21:48:08.780Z"
   },
   {
    "duration": 4,
    "start_time": "2024-10-26T21:48:08.786Z"
   },
   {
    "duration": 4,
    "start_time": "2024-10-26T21:48:08.792Z"
   },
   {
    "duration": 5,
    "start_time": "2024-10-26T21:48:08.797Z"
   },
   {
    "duration": 752,
    "start_time": "2024-10-26T21:48:08.803Z"
   },
   {
    "duration": 6,
    "start_time": "2024-10-26T21:48:09.557Z"
   },
   {
    "duration": 223,
    "start_time": "2024-10-26T21:48:09.570Z"
   },
   {
    "duration": 0,
    "start_time": "2024-10-26T21:48:09.794Z"
   },
   {
    "duration": 0,
    "start_time": "2024-10-26T21:48:09.795Z"
   },
   {
    "duration": 0,
    "start_time": "2024-10-26T21:48:09.796Z"
   },
   {
    "duration": 114,
    "start_time": "2024-10-26T21:49:40.610Z"
   },
   {
    "duration": 16,
    "start_time": "2024-10-26T21:49:49.524Z"
   },
   {
    "duration": 752,
    "start_time": "2024-10-26T21:49:59.451Z"
   },
   {
    "duration": 16,
    "start_time": "2024-10-26T21:50:00.205Z"
   },
   {
    "duration": 32,
    "start_time": "2024-10-26T21:50:00.222Z"
   },
   {
    "duration": 13,
    "start_time": "2024-10-26T21:50:00.257Z"
   },
   {
    "duration": 7,
    "start_time": "2024-10-26T21:50:00.272Z"
   },
   {
    "duration": 8,
    "start_time": "2024-10-26T21:50:00.281Z"
   },
   {
    "duration": 4,
    "start_time": "2024-10-26T21:50:00.290Z"
   },
   {
    "duration": 6,
    "start_time": "2024-10-26T21:50:00.296Z"
   },
   {
    "duration": 6,
    "start_time": "2024-10-26T21:50:00.303Z"
   },
   {
    "duration": 8,
    "start_time": "2024-10-26T21:50:00.312Z"
   },
   {
    "duration": 4,
    "start_time": "2024-10-26T21:50:00.322Z"
   },
   {
    "duration": 52,
    "start_time": "2024-10-26T21:50:00.328Z"
   },
   {
    "duration": 3,
    "start_time": "2024-10-26T21:50:00.382Z"
   },
   {
    "duration": 5,
    "start_time": "2024-10-26T21:50:00.386Z"
   },
   {
    "duration": 83,
    "start_time": "2024-10-26T21:50:00.392Z"
   },
   {
    "duration": 5,
    "start_time": "2024-10-26T21:50:00.476Z"
   },
   {
    "duration": 4,
    "start_time": "2024-10-26T21:50:00.482Z"
   },
   {
    "duration": 4,
    "start_time": "2024-10-26T21:50:00.488Z"
   },
   {
    "duration": 3,
    "start_time": "2024-10-26T21:50:00.494Z"
   },
   {
    "duration": 753,
    "start_time": "2024-10-26T21:50:00.499Z"
   },
   {
    "duration": 5,
    "start_time": "2024-10-26T21:50:01.254Z"
   },
   {
    "duration": 223,
    "start_time": "2024-10-26T21:50:01.261Z"
   },
   {
    "duration": 0,
    "start_time": "2024-10-26T21:50:01.486Z"
   },
   {
    "duration": 0,
    "start_time": "2024-10-26T21:50:01.487Z"
   },
   {
    "duration": 0,
    "start_time": "2024-10-26T21:50:01.489Z"
   },
   {
    "duration": 746,
    "start_time": "2024-10-26T22:03:41.463Z"
   },
   {
    "duration": 16,
    "start_time": "2024-10-26T22:03:42.211Z"
   },
   {
    "duration": 33,
    "start_time": "2024-10-26T22:03:42.228Z"
   },
   {
    "duration": 8,
    "start_time": "2024-10-26T22:03:42.263Z"
   },
   {
    "duration": 6,
    "start_time": "2024-10-26T22:03:42.273Z"
   },
   {
    "duration": 7,
    "start_time": "2024-10-26T22:03:42.281Z"
   },
   {
    "duration": 4,
    "start_time": "2024-10-26T22:03:42.290Z"
   },
   {
    "duration": 6,
    "start_time": "2024-10-26T22:03:42.295Z"
   },
   {
    "duration": 6,
    "start_time": "2024-10-26T22:03:42.303Z"
   },
   {
    "duration": 8,
    "start_time": "2024-10-26T22:03:42.312Z"
   },
   {
    "duration": 4,
    "start_time": "2024-10-26T22:03:42.322Z"
   },
   {
    "duration": 53,
    "start_time": "2024-10-26T22:03:42.328Z"
   },
   {
    "duration": 5,
    "start_time": "2024-10-26T22:03:42.383Z"
   },
   {
    "duration": 4,
    "start_time": "2024-10-26T22:03:42.389Z"
   },
   {
    "duration": 8,
    "start_time": "2024-10-26T22:03:42.470Z"
   },
   {
    "duration": 4,
    "start_time": "2024-10-26T22:03:42.480Z"
   },
   {
    "duration": 5,
    "start_time": "2024-10-26T22:03:42.486Z"
   },
   {
    "duration": 4,
    "start_time": "2024-10-26T22:03:42.492Z"
   },
   {
    "duration": 308,
    "start_time": "2024-10-26T22:03:42.498Z"
   },
   {
    "duration": 0,
    "start_time": "2024-10-26T22:03:42.808Z"
   },
   {
    "duration": 0,
    "start_time": "2024-10-26T22:03:42.810Z"
   },
   {
    "duration": 0,
    "start_time": "2024-10-26T22:03:42.811Z"
   },
   {
    "duration": 0,
    "start_time": "2024-10-26T22:03:42.813Z"
   },
   {
    "duration": 0,
    "start_time": "2024-10-26T22:03:42.814Z"
   },
   {
    "duration": 0,
    "start_time": "2024-10-26T22:03:42.815Z"
   },
   {
    "duration": 786,
    "start_time": "2024-10-26T22:12:21.410Z"
   },
   {
    "duration": 16,
    "start_time": "2024-10-26T22:12:22.198Z"
   },
   {
    "duration": 33,
    "start_time": "2024-10-26T22:12:22.215Z"
   },
   {
    "duration": 4,
    "start_time": "2024-10-26T22:12:22.250Z"
   },
   {
    "duration": 7,
    "start_time": "2024-10-26T22:12:22.270Z"
   },
   {
    "duration": 8,
    "start_time": "2024-10-26T22:12:22.279Z"
   },
   {
    "duration": 3,
    "start_time": "2024-10-26T22:12:22.288Z"
   },
   {
    "duration": 6,
    "start_time": "2024-10-26T22:12:22.293Z"
   },
   {
    "duration": 8,
    "start_time": "2024-10-26T22:12:22.300Z"
   },
   {
    "duration": 7,
    "start_time": "2024-10-26T22:12:22.309Z"
   },
   {
    "duration": 5,
    "start_time": "2024-10-26T22:12:22.317Z"
   },
   {
    "duration": 57,
    "start_time": "2024-10-26T22:12:22.323Z"
   },
   {
    "duration": 4,
    "start_time": "2024-10-26T22:12:22.382Z"
   },
   {
    "duration": 6,
    "start_time": "2024-10-26T22:12:22.389Z"
   },
   {
    "duration": 78,
    "start_time": "2024-10-26T22:12:22.396Z"
   },
   {
    "duration": 5,
    "start_time": "2024-10-26T22:12:22.476Z"
   },
   {
    "duration": 4,
    "start_time": "2024-10-26T22:12:22.483Z"
   },
   {
    "duration": 5,
    "start_time": "2024-10-26T22:12:22.488Z"
   },
   {
    "duration": 78,
    "start_time": "2024-10-26T22:12:22.494Z"
   },
   {
    "duration": 797,
    "start_time": "2024-10-26T22:12:22.573Z"
   },
   {
    "duration": 4,
    "start_time": "2024-10-26T22:12:23.372Z"
   },
   {
    "duration": 224,
    "start_time": "2024-10-26T22:12:23.378Z"
   },
   {
    "duration": 0,
    "start_time": "2024-10-26T22:12:23.604Z"
   },
   {
    "duration": 0,
    "start_time": "2024-10-26T22:12:23.605Z"
   },
   {
    "duration": 0,
    "start_time": "2024-10-26T22:12:23.606Z"
   },
   {
    "duration": 4,
    "start_time": "2024-10-26T22:27:40.416Z"
   },
   {
    "duration": 767,
    "start_time": "2024-10-26T22:27:56.534Z"
   },
   {
    "duration": 15,
    "start_time": "2024-10-26T22:27:57.304Z"
   },
   {
    "duration": 55,
    "start_time": "2024-10-26T22:27:57.321Z"
   },
   {
    "duration": 4,
    "start_time": "2024-10-26T22:27:57.378Z"
   },
   {
    "duration": 8,
    "start_time": "2024-10-26T22:27:57.383Z"
   },
   {
    "duration": 10,
    "start_time": "2024-10-26T22:27:57.392Z"
   },
   {
    "duration": 3,
    "start_time": "2024-10-26T22:27:57.404Z"
   },
   {
    "duration": 6,
    "start_time": "2024-10-26T22:27:57.410Z"
   },
   {
    "duration": 7,
    "start_time": "2024-10-26T22:27:57.418Z"
   },
   {
    "duration": 10,
    "start_time": "2024-10-26T22:27:57.469Z"
   },
   {
    "duration": 6,
    "start_time": "2024-10-26T22:27:57.482Z"
   },
   {
    "duration": 30,
    "start_time": "2024-10-26T22:27:57.490Z"
   },
   {
    "duration": 5,
    "start_time": "2024-10-26T22:27:57.569Z"
   },
   {
    "duration": 4,
    "start_time": "2024-10-26T22:27:57.576Z"
   },
   {
    "duration": 9,
    "start_time": "2024-10-26T22:27:57.582Z"
   },
   {
    "duration": 5,
    "start_time": "2024-10-26T22:27:57.592Z"
   },
   {
    "duration": 72,
    "start_time": "2024-10-26T22:27:57.599Z"
   },
   {
    "duration": 4,
    "start_time": "2024-10-26T22:27:57.673Z"
   },
   {
    "duration": 30,
    "start_time": "2024-10-26T22:27:57.679Z"
   },
   {
    "duration": 8,
    "start_time": "2024-10-26T22:27:57.712Z"
   },
   {
    "duration": 0,
    "start_time": "2024-10-26T22:27:57.723Z"
   },
   {
    "duration": 0,
    "start_time": "2024-10-26T22:27:57.724Z"
   },
   {
    "duration": 0,
    "start_time": "2024-10-26T22:27:57.725Z"
   },
   {
    "duration": 0,
    "start_time": "2024-10-26T22:27:57.725Z"
   },
   {
    "duration": 0,
    "start_time": "2024-10-26T22:27:57.726Z"
   },
   {
    "duration": 0,
    "start_time": "2024-10-26T22:27:57.726Z"
   },
   {
    "duration": 829,
    "start_time": "2024-10-26T22:29:36.275Z"
   },
   {
    "duration": 17,
    "start_time": "2024-10-26T22:29:37.107Z"
   },
   {
    "duration": 53,
    "start_time": "2024-10-26T22:29:37.126Z"
   },
   {
    "duration": 4,
    "start_time": "2024-10-26T22:29:37.181Z"
   },
   {
    "duration": 9,
    "start_time": "2024-10-26T22:29:37.186Z"
   },
   {
    "duration": 13,
    "start_time": "2024-10-26T22:29:37.197Z"
   },
   {
    "duration": 4,
    "start_time": "2024-10-26T22:29:37.213Z"
   },
   {
    "duration": 8,
    "start_time": "2024-10-26T22:29:37.219Z"
   },
   {
    "duration": 7,
    "start_time": "2024-10-26T22:29:37.230Z"
   },
   {
    "duration": 34,
    "start_time": "2024-10-26T22:29:37.242Z"
   },
   {
    "duration": 8,
    "start_time": "2024-10-26T22:29:37.278Z"
   },
   {
    "duration": 18,
    "start_time": "2024-10-26T22:29:37.288Z"
   },
   {
    "duration": 6,
    "start_time": "2024-10-26T22:29:37.309Z"
   },
   {
    "duration": 53,
    "start_time": "2024-10-26T22:29:37.319Z"
   },
   {
    "duration": 12,
    "start_time": "2024-10-26T22:29:37.377Z"
   },
   {
    "duration": 6,
    "start_time": "2024-10-26T22:29:37.391Z"
   },
   {
    "duration": 5,
    "start_time": "2024-10-26T22:29:37.399Z"
   },
   {
    "duration": 5,
    "start_time": "2024-10-26T22:29:37.407Z"
   },
   {
    "duration": 37,
    "start_time": "2024-10-26T22:29:37.470Z"
   },
   {
    "duration": 5,
    "start_time": "2024-10-26T22:29:37.509Z"
   },
   {
    "duration": 0,
    "start_time": "2024-10-26T22:29:37.516Z"
   },
   {
    "duration": 0,
    "start_time": "2024-10-26T22:29:37.517Z"
   },
   {
    "duration": 0,
    "start_time": "2024-10-26T22:29:37.571Z"
   },
   {
    "duration": 0,
    "start_time": "2024-10-26T22:29:37.573Z"
   },
   {
    "duration": 0,
    "start_time": "2024-10-26T22:29:37.575Z"
   },
   {
    "duration": 0,
    "start_time": "2024-10-26T22:29:37.577Z"
   },
   {
    "duration": 770,
    "start_time": "2024-10-26T22:33:11.527Z"
   },
   {
    "duration": 15,
    "start_time": "2024-10-26T22:33:12.299Z"
   },
   {
    "duration": 33,
    "start_time": "2024-10-26T22:33:12.316Z"
   },
   {
    "duration": 3,
    "start_time": "2024-10-26T22:33:12.351Z"
   },
   {
    "duration": 7,
    "start_time": "2024-10-26T22:33:12.370Z"
   },
   {
    "duration": 8,
    "start_time": "2024-10-26T22:33:12.378Z"
   },
   {
    "duration": 4,
    "start_time": "2024-10-26T22:33:12.388Z"
   },
   {
    "duration": 5,
    "start_time": "2024-10-26T22:33:12.394Z"
   },
   {
    "duration": 6,
    "start_time": "2024-10-26T22:33:12.401Z"
   },
   {
    "duration": 7,
    "start_time": "2024-10-26T22:33:12.411Z"
   },
   {
    "duration": 5,
    "start_time": "2024-10-26T22:33:12.419Z"
   },
   {
    "duration": 47,
    "start_time": "2024-10-26T22:33:12.426Z"
   },
   {
    "duration": 5,
    "start_time": "2024-10-26T22:33:12.476Z"
   },
   {
    "duration": 5,
    "start_time": "2024-10-26T22:33:12.483Z"
   },
   {
    "duration": 81,
    "start_time": "2024-10-26T22:33:12.490Z"
   },
   {
    "duration": 5,
    "start_time": "2024-10-26T22:33:12.572Z"
   },
   {
    "duration": 4,
    "start_time": "2024-10-26T22:33:12.578Z"
   },
   {
    "duration": 4,
    "start_time": "2024-10-26T22:33:12.584Z"
   },
   {
    "duration": 32,
    "start_time": "2024-10-26T22:33:12.591Z"
   },
   {
    "duration": 302,
    "start_time": "2024-10-26T22:33:12.669Z"
   },
   {
    "duration": 0,
    "start_time": "2024-10-26T22:33:12.973Z"
   },
   {
    "duration": 0,
    "start_time": "2024-10-26T22:33:12.974Z"
   },
   {
    "duration": 0,
    "start_time": "2024-10-26T22:33:12.975Z"
   },
   {
    "duration": 0,
    "start_time": "2024-10-26T22:33:12.976Z"
   },
   {
    "duration": 0,
    "start_time": "2024-10-26T22:33:12.978Z"
   },
   {
    "duration": 0,
    "start_time": "2024-10-26T22:33:12.979Z"
   },
   {
    "duration": 749,
    "start_time": "2024-10-26T22:53:29.532Z"
   },
   {
    "duration": 16,
    "start_time": "2024-10-26T22:53:30.283Z"
   },
   {
    "duration": 32,
    "start_time": "2024-10-26T22:53:30.302Z"
   },
   {
    "duration": 5,
    "start_time": "2024-10-26T22:53:30.337Z"
   },
   {
    "duration": 28,
    "start_time": "2024-10-26T22:53:30.345Z"
   },
   {
    "duration": 8,
    "start_time": "2024-10-26T22:53:30.375Z"
   },
   {
    "duration": 3,
    "start_time": "2024-10-26T22:53:30.384Z"
   },
   {
    "duration": 6,
    "start_time": "2024-10-26T22:53:30.389Z"
   },
   {
    "duration": 6,
    "start_time": "2024-10-26T22:53:30.397Z"
   },
   {
    "duration": 8,
    "start_time": "2024-10-26T22:53:30.405Z"
   },
   {
    "duration": 6,
    "start_time": "2024-10-26T22:53:30.414Z"
   },
   {
    "duration": 52,
    "start_time": "2024-10-26T22:53:30.421Z"
   },
   {
    "duration": 3,
    "start_time": "2024-10-26T22:53:30.475Z"
   },
   {
    "duration": 6,
    "start_time": "2024-10-26T22:53:30.480Z"
   },
   {
    "duration": 83,
    "start_time": "2024-10-26T22:53:30.488Z"
   },
   {
    "duration": 5,
    "start_time": "2024-10-26T22:53:30.573Z"
   },
   {
    "duration": 4,
    "start_time": "2024-10-26T22:53:30.579Z"
   },
   {
    "duration": 4,
    "start_time": "2024-10-26T22:53:30.585Z"
   },
   {
    "duration": 80,
    "start_time": "2024-10-26T22:53:30.591Z"
   },
   {
    "duration": 101,
    "start_time": "2024-10-26T22:53:30.675Z"
   },
   {
    "duration": 787,
    "start_time": "2024-10-26T22:53:30.779Z"
   },
   {
    "duration": 4,
    "start_time": "2024-10-26T22:53:31.570Z"
   },
   {
    "duration": 225,
    "start_time": "2024-10-26T22:53:31.575Z"
   },
   {
    "duration": 0,
    "start_time": "2024-10-26T22:53:31.802Z"
   },
   {
    "duration": 0,
    "start_time": "2024-10-26T22:53:31.803Z"
   },
   {
    "duration": 0,
    "start_time": "2024-10-26T22:53:31.804Z"
   },
   {
    "duration": 815,
    "start_time": "2024-10-26T23:00:36.391Z"
   },
   {
    "duration": 16,
    "start_time": "2024-10-26T23:00:37.209Z"
   },
   {
    "duration": 33,
    "start_time": "2024-10-26T23:00:37.226Z"
   },
   {
    "duration": 3,
    "start_time": "2024-10-26T23:00:37.270Z"
   },
   {
    "duration": 6,
    "start_time": "2024-10-26T23:00:37.275Z"
   },
   {
    "duration": 7,
    "start_time": "2024-10-26T23:00:37.283Z"
   },
   {
    "duration": 3,
    "start_time": "2024-10-26T23:00:37.291Z"
   },
   {
    "duration": 6,
    "start_time": "2024-10-26T23:00:37.296Z"
   },
   {
    "duration": 6,
    "start_time": "2024-10-26T23:00:37.303Z"
   },
   {
    "duration": 7,
    "start_time": "2024-10-26T23:00:37.312Z"
   },
   {
    "duration": 5,
    "start_time": "2024-10-26T23:00:37.321Z"
   },
   {
    "duration": 58,
    "start_time": "2024-10-26T23:00:37.327Z"
   },
   {
    "duration": 4,
    "start_time": "2024-10-26T23:00:37.389Z"
   },
   {
    "duration": 4,
    "start_time": "2024-10-26T23:00:37.394Z"
   },
   {
    "duration": 79,
    "start_time": "2024-10-26T23:00:37.400Z"
   },
   {
    "duration": 5,
    "start_time": "2024-10-26T23:00:37.480Z"
   },
   {
    "duration": 5,
    "start_time": "2024-10-26T23:00:37.487Z"
   },
   {
    "duration": 4,
    "start_time": "2024-10-26T23:00:37.494Z"
   },
   {
    "duration": 84,
    "start_time": "2024-10-26T23:00:37.499Z"
   },
   {
    "duration": 87,
    "start_time": "2024-10-26T23:00:37.585Z"
   },
   {
    "duration": 118,
    "start_time": "2024-10-26T23:00:37.674Z"
   },
   {
    "duration": 743,
    "start_time": "2024-10-26T23:00:37.794Z"
   },
   {
    "duration": 6,
    "start_time": "2024-10-26T23:00:38.538Z"
   },
   {
    "duration": 230,
    "start_time": "2024-10-26T23:00:38.546Z"
   },
   {
    "duration": 0,
    "start_time": "2024-10-26T23:00:38.778Z"
   },
   {
    "duration": 0,
    "start_time": "2024-10-26T23:00:38.779Z"
   },
   {
    "duration": 0,
    "start_time": "2024-10-26T23:00:38.781Z"
   },
   {
    "duration": 17,
    "start_time": "2024-10-26T23:11:25.228Z"
   },
   {
    "duration": 880,
    "start_time": "2024-10-26T23:12:36.963Z"
   },
   {
    "duration": 15,
    "start_time": "2024-10-26T23:12:37.846Z"
   },
   {
    "duration": 38,
    "start_time": "2024-10-26T23:12:37.862Z"
   },
   {
    "duration": 4,
    "start_time": "2024-10-26T23:12:37.902Z"
   },
   {
    "duration": 7,
    "start_time": "2024-10-26T23:12:37.908Z"
   },
   {
    "duration": 8,
    "start_time": "2024-10-26T23:12:37.916Z"
   },
   {
    "duration": 3,
    "start_time": "2024-10-26T23:12:37.925Z"
   },
   {
    "duration": 6,
    "start_time": "2024-10-26T23:12:37.930Z"
   },
   {
    "duration": 37,
    "start_time": "2024-10-26T23:12:37.937Z"
   },
   {
    "duration": 7,
    "start_time": "2024-10-26T23:12:37.977Z"
   },
   {
    "duration": 5,
    "start_time": "2024-10-26T23:12:37.985Z"
   },
   {
    "duration": 17,
    "start_time": "2024-10-26T23:12:37.991Z"
   },
   {
    "duration": 63,
    "start_time": "2024-10-26T23:12:38.011Z"
   },
   {
    "duration": 8,
    "start_time": "2024-10-26T23:12:38.075Z"
   },
   {
    "duration": 85,
    "start_time": "2024-10-26T23:12:38.085Z"
   },
   {
    "duration": 5,
    "start_time": "2024-10-26T23:12:38.172Z"
   },
   {
    "duration": 5,
    "start_time": "2024-10-26T23:12:38.178Z"
   },
   {
    "duration": 5,
    "start_time": "2024-10-26T23:12:38.185Z"
   },
   {
    "duration": 80,
    "start_time": "2024-10-26T23:12:38.191Z"
   },
   {
    "duration": 100,
    "start_time": "2024-10-26T23:12:38.273Z"
   },
   {
    "duration": 119,
    "start_time": "2024-10-26T23:12:38.375Z"
   },
   {
    "duration": 201,
    "start_time": "2024-10-26T23:12:38.495Z"
   },
   {
    "duration": 692,
    "start_time": "2024-10-26T23:12:38.701Z"
   },
   {
    "duration": 5,
    "start_time": "2024-10-26T23:12:39.395Z"
   },
   {
    "duration": 232,
    "start_time": "2024-10-26T23:12:39.401Z"
   },
   {
    "duration": 0,
    "start_time": "2024-10-26T23:12:39.635Z"
   },
   {
    "duration": 0,
    "start_time": "2024-10-26T23:12:39.636Z"
   },
   {
    "duration": 0,
    "start_time": "2024-10-26T23:12:39.637Z"
   },
   {
    "duration": 15,
    "start_time": "2024-10-26T23:18:21.673Z"
   },
   {
    "duration": 42,
    "start_time": "2024-10-26T23:18:53.472Z"
   },
   {
    "duration": 134,
    "start_time": "2024-10-26T23:21:38.022Z"
   },
   {
    "duration": 135,
    "start_time": "2024-10-26T23:21:57.688Z"
   },
   {
    "duration": 15,
    "start_time": "2024-10-26T23:32:51.736Z"
   },
   {
    "duration": 14,
    "start_time": "2024-10-26T23:33:10.887Z"
   },
   {
    "duration": 4,
    "start_time": "2024-10-26T23:33:56.186Z"
   },
   {
    "duration": 922,
    "start_time": "2024-10-26T23:39:50.811Z"
   },
   {
    "duration": 16,
    "start_time": "2024-10-26T23:39:51.736Z"
   },
   {
    "duration": 40,
    "start_time": "2024-10-26T23:39:51.754Z"
   },
   {
    "duration": 4,
    "start_time": "2024-10-26T23:39:51.795Z"
   },
   {
    "duration": 6,
    "start_time": "2024-10-26T23:39:51.802Z"
   },
   {
    "duration": 8,
    "start_time": "2024-10-26T23:39:51.810Z"
   },
   {
    "duration": 3,
    "start_time": "2024-10-26T23:39:51.820Z"
   },
   {
    "duration": 6,
    "start_time": "2024-10-26T23:39:51.825Z"
   },
   {
    "duration": 6,
    "start_time": "2024-10-26T23:39:51.833Z"
   },
   {
    "duration": 37,
    "start_time": "2024-10-26T23:39:51.840Z"
   },
   {
    "duration": 5,
    "start_time": "2024-10-26T23:39:51.879Z"
   },
   {
    "duration": 16,
    "start_time": "2024-10-26T23:39:51.885Z"
   },
   {
    "duration": 4,
    "start_time": "2024-10-26T23:39:51.902Z"
   },
   {
    "duration": 4,
    "start_time": "2024-10-26T23:39:51.971Z"
   },
   {
    "duration": 8,
    "start_time": "2024-10-26T23:39:51.977Z"
   },
   {
    "duration": 4,
    "start_time": "2024-10-26T23:39:51.987Z"
   },
   {
    "duration": 77,
    "start_time": "2024-10-26T23:39:51.993Z"
   },
   {
    "duration": 4,
    "start_time": "2024-10-26T23:39:52.072Z"
   },
   {
    "duration": 30,
    "start_time": "2024-10-26T23:39:52.078Z"
   },
   {
    "duration": 73,
    "start_time": "2024-10-26T23:39:52.109Z"
   },
   {
    "duration": 119,
    "start_time": "2024-10-26T23:39:52.184Z"
   },
   {
    "duration": 252,
    "start_time": "2024-10-26T23:39:52.369Z"
   },
   {
    "duration": 6,
    "start_time": "2024-10-26T23:39:52.623Z"
   },
   {
    "duration": 700,
    "start_time": "2024-10-26T23:39:52.631Z"
   },
   {
    "duration": 4,
    "start_time": "2024-10-26T23:39:53.333Z"
   },
   {
    "duration": 252,
    "start_time": "2024-10-26T23:39:53.339Z"
   },
   {
    "duration": 0,
    "start_time": "2024-10-26T23:39:53.593Z"
   },
   {
    "duration": 0,
    "start_time": "2024-10-26T23:39:53.594Z"
   },
   {
    "duration": 0,
    "start_time": "2024-10-26T23:39:53.595Z"
   },
   {
    "duration": 685,
    "start_time": "2024-10-26T23:54:18.969Z"
   },
   {
    "duration": 687,
    "start_time": "2024-10-27T00:43:59.354Z"
   },
   {
    "duration": 930,
    "start_time": "2024-10-27T01:00:56.794Z"
   },
   {
    "duration": 16,
    "start_time": "2024-10-27T01:00:57.726Z"
   },
   {
    "duration": 40,
    "start_time": "2024-10-27T01:00:57.744Z"
   },
   {
    "duration": 4,
    "start_time": "2024-10-27T01:00:57.786Z"
   },
   {
    "duration": 7,
    "start_time": "2024-10-27T01:00:57.792Z"
   },
   {
    "duration": 9,
    "start_time": "2024-10-27T01:00:57.801Z"
   },
   {
    "duration": 3,
    "start_time": "2024-10-27T01:00:57.811Z"
   },
   {
    "duration": 6,
    "start_time": "2024-10-27T01:00:57.816Z"
   },
   {
    "duration": 6,
    "start_time": "2024-10-27T01:00:57.824Z"
   },
   {
    "duration": 41,
    "start_time": "2024-10-27T01:00:57.832Z"
   },
   {
    "duration": 10,
    "start_time": "2024-10-27T01:00:57.874Z"
   },
   {
    "duration": 14,
    "start_time": "2024-10-27T01:00:57.885Z"
   },
   {
    "duration": 2,
    "start_time": "2024-10-27T01:00:57.901Z"
   },
   {
    "duration": 3,
    "start_time": "2024-10-27T01:00:57.905Z"
   },
   {
    "duration": 243,
    "start_time": "2024-10-27T01:00:57.971Z"
   },
   {
    "duration": 5,
    "start_time": "2024-10-27T01:00:58.216Z"
   },
   {
    "duration": 639,
    "start_time": "2024-10-27T01:00:58.222Z"
   },
   {
    "duration": 233,
    "start_time": "2024-10-27T01:00:58.864Z"
   },
   {
    "duration": 0,
    "start_time": "2024-10-27T01:00:59.099Z"
   },
   {
    "duration": 0,
    "start_time": "2024-10-27T01:00:59.101Z"
   },
   {
    "duration": 0,
    "start_time": "2024-10-27T01:00:59.103Z"
   },
   {
    "duration": 0,
    "start_time": "2024-10-27T01:00:59.104Z"
   },
   {
    "duration": 0,
    "start_time": "2024-10-27T01:00:59.106Z"
   },
   {
    "duration": 0,
    "start_time": "2024-10-27T01:00:59.107Z"
   },
   {
    "duration": 0,
    "start_time": "2024-10-27T01:00:59.109Z"
   },
   {
    "duration": 0,
    "start_time": "2024-10-27T01:00:59.110Z"
   },
   {
    "duration": 0,
    "start_time": "2024-10-27T01:00:59.112Z"
   },
   {
    "duration": 0,
    "start_time": "2024-10-27T01:00:59.113Z"
   },
   {
    "duration": 0,
    "start_time": "2024-10-27T01:00:59.115Z"
   },
   {
    "duration": 0,
    "start_time": "2024-10-27T01:00:59.116Z"
   },
   {
    "duration": 0,
    "start_time": "2024-10-27T01:00:59.118Z"
   },
   {
    "duration": 0,
    "start_time": "2024-10-27T01:00:59.119Z"
   },
   {
    "duration": 15,
    "start_time": "2024-10-27T01:03:37.803Z"
   },
   {
    "duration": 892,
    "start_time": "2024-10-27T01:03:55.532Z"
   },
   {
    "duration": 16,
    "start_time": "2024-10-27T01:03:56.427Z"
   },
   {
    "duration": 45,
    "start_time": "2024-10-27T01:03:56.444Z"
   },
   {
    "duration": 3,
    "start_time": "2024-10-27T01:03:56.492Z"
   },
   {
    "duration": 8,
    "start_time": "2024-10-27T01:03:56.497Z"
   },
   {
    "duration": 9,
    "start_time": "2024-10-27T01:03:56.506Z"
   },
   {
    "duration": 3,
    "start_time": "2024-10-27T01:03:56.516Z"
   },
   {
    "duration": 6,
    "start_time": "2024-10-27T01:03:56.520Z"
   },
   {
    "duration": 8,
    "start_time": "2024-10-27T01:03:56.528Z"
   },
   {
    "duration": 36,
    "start_time": "2024-10-27T01:03:56.544Z"
   },
   {
    "duration": 10,
    "start_time": "2024-10-27T01:03:56.582Z"
   },
   {
    "duration": 11,
    "start_time": "2024-10-27T01:03:56.594Z"
   },
   {
    "duration": 2,
    "start_time": "2024-10-27T01:03:56.607Z"
   },
   {
    "duration": 66,
    "start_time": "2024-10-27T01:03:56.611Z"
   },
   {
    "duration": 252,
    "start_time": "2024-10-27T01:03:56.679Z"
   },
   {
    "duration": 4,
    "start_time": "2024-10-27T01:03:56.933Z"
   },
   {
    "duration": 641,
    "start_time": "2024-10-27T01:03:56.940Z"
   },
   {
    "duration": 238,
    "start_time": "2024-10-27T01:03:57.583Z"
   },
   {
    "duration": 0,
    "start_time": "2024-10-27T01:03:57.823Z"
   },
   {
    "duration": 0,
    "start_time": "2024-10-27T01:03:57.824Z"
   },
   {
    "duration": 0,
    "start_time": "2024-10-27T01:03:57.825Z"
   },
   {
    "duration": 0,
    "start_time": "2024-10-27T01:03:57.826Z"
   },
   {
    "duration": 1,
    "start_time": "2024-10-27T01:03:57.827Z"
   },
   {
    "duration": 0,
    "start_time": "2024-10-27T01:03:57.829Z"
   },
   {
    "duration": 0,
    "start_time": "2024-10-27T01:03:57.830Z"
   },
   {
    "duration": 0,
    "start_time": "2024-10-27T01:03:57.831Z"
   },
   {
    "duration": 0,
    "start_time": "2024-10-27T01:03:57.832Z"
   },
   {
    "duration": 0,
    "start_time": "2024-10-27T01:03:57.834Z"
   },
   {
    "duration": 0,
    "start_time": "2024-10-27T01:03:57.835Z"
   },
   {
    "duration": 0,
    "start_time": "2024-10-27T01:03:57.836Z"
   },
   {
    "duration": 0,
    "start_time": "2024-10-27T01:03:57.837Z"
   },
   {
    "duration": 0,
    "start_time": "2024-10-27T01:03:57.838Z"
   },
   {
    "duration": 0,
    "start_time": "2024-10-27T01:03:57.839Z"
   },
   {
    "duration": 1710,
    "start_time": "2024-10-27T01:09:13.001Z"
   },
   {
    "duration": 9,
    "start_time": "2024-10-27T01:18:08.493Z"
   },
   {
    "duration": 896,
    "start_time": "2024-10-27T01:26:49.020Z"
   },
   {
    "duration": 15,
    "start_time": "2024-10-27T01:26:49.918Z"
   },
   {
    "duration": 39,
    "start_time": "2024-10-27T01:26:49.935Z"
   },
   {
    "duration": 4,
    "start_time": "2024-10-27T01:26:49.976Z"
   },
   {
    "duration": 7,
    "start_time": "2024-10-27T01:26:49.982Z"
   },
   {
    "duration": 7,
    "start_time": "2024-10-27T01:26:49.990Z"
   },
   {
    "duration": 3,
    "start_time": "2024-10-27T01:26:49.999Z"
   },
   {
    "duration": 6,
    "start_time": "2024-10-27T01:26:50.004Z"
   },
   {
    "duration": 7,
    "start_time": "2024-10-27T01:26:50.011Z"
   },
   {
    "duration": 8,
    "start_time": "2024-10-27T01:26:50.020Z"
   },
   {
    "duration": 48,
    "start_time": "2024-10-27T01:26:50.030Z"
   },
   {
    "duration": 14,
    "start_time": "2024-10-27T01:26:50.079Z"
   },
   {
    "duration": 4,
    "start_time": "2024-10-27T01:26:50.096Z"
   },
   {
    "duration": 70,
    "start_time": "2024-10-27T01:26:50.103Z"
   },
   {
    "duration": 245,
    "start_time": "2024-10-27T01:26:50.176Z"
   },
   {
    "duration": 5,
    "start_time": "2024-10-27T01:26:50.423Z"
   },
   {
    "duration": 622,
    "start_time": "2024-10-27T01:26:50.430Z"
   },
   {
    "duration": 1725,
    "start_time": "2024-10-27T01:26:51.054Z"
   },
   {
    "duration": 6,
    "start_time": "2024-10-27T01:26:52.781Z"
   },
   {
    "duration": 0,
    "start_time": "2024-10-27T01:26:52.789Z"
   },
   {
    "duration": 162,
    "start_time": "2024-10-27T16:00:47.195Z"
   },
   {
    "duration": 2755,
    "start_time": "2024-10-27T16:00:54.239Z"
   },
   {
    "duration": 11,
    "start_time": "2024-10-27T16:01:04.015Z"
   }
  ],
  "kernelspec": {
   "display_name": "Python 3 (ipykernel)",
   "language": "python",
   "name": "python3"
  },
  "language_info": {
   "codemirror_mode": {
    "name": "ipython",
    "version": 3
   },
   "file_extension": ".py",
   "mimetype": "text/x-python",
   "name": "python",
   "nbconvert_exporter": "python",
   "pygments_lexer": "ipython3",
   "version": "3.9.19"
  },
  "toc": {
   "base_numbering": 1,
   "nav_menu": {},
   "number_sections": true,
   "sideBar": true,
   "skip_h1_title": true,
   "title_cell": "Table of Contents",
   "title_sidebar": "Contents",
   "toc_cell": false,
   "toc_position": {},
   "toc_section_display": true,
   "toc_window_display": false
  }
 },
 "nbformat": 4,
 "nbformat_minor": 2
}
